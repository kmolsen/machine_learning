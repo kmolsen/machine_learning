{
 "cells": [
  {
   "cell_type": "markdown",
   "metadata": {},
   "source": [
    "# Linear, Ridge, and LASSO Regression Models\n",
    "This notebook shows examples of models for training and predicting production with three different regression types"
   ]
  },
  {
   "cell_type": "markdown",
   "metadata": {},
   "source": [
    "Importing necessary packages"
   ]
  },
  {
   "cell_type": "code",
   "execution_count": 1,
   "metadata": {},
   "outputs": [],
   "source": [
    "import pandas as pd\n",
    "import numpy as np\n",
    "import seaborn as sns\n",
    "import scipy.stats as st                                    \n",
    "import matplotlib.pyplot as plt\n",
    "\n",
    "from sklearn.metrics import mean_squared_error, r2_score    # specific measures to check our models\n",
    "\n",
    "\n",
    "from sklearn.linear_model import LinearRegression\n",
    "from sklearn.linear_model import Ridge\n",
    "from sklearn.linear_model import Lasso\n"
   ]
  },
  {
   "cell_type": "markdown",
   "metadata": {},
   "source": [
    "Read in the .csv data, then see the size of it"
   ]
  },
  {
   "cell_type": "code",
   "execution_count": 2,
   "metadata": {
    "scrolled": true
   },
   "outputs": [
    {
     "data": {
      "text/plain": [
       "(200, 8)"
      ]
     },
     "execution_count": 2,
     "metadata": {},
     "output_type": "execute_result"
    }
   ],
   "source": [
    "data = pd.read_csv('unconv_MV_v5.csv')\n",
    "data.shape"
   ]
  },
  {
   "cell_type": "code",
   "execution_count": 3,
   "metadata": {},
   "outputs": [
    {
     "data": {
      "text/html": [
       "<div>\n",
       "<style scoped>\n",
       "    .dataframe tbody tr th:only-of-type {\n",
       "        vertical-align: middle;\n",
       "    }\n",
       "\n",
       "    .dataframe tbody tr th {\n",
       "        vertical-align: top;\n",
       "    }\n",
       "\n",
       "    .dataframe thead th {\n",
       "        text-align: right;\n",
       "    }\n",
       "</style>\n",
       "<table border=\"1\" class=\"dataframe\">\n",
       "  <thead>\n",
       "    <tr style=\"text-align: right;\">\n",
       "      <th></th>\n",
       "      <th>Well</th>\n",
       "      <th>Por</th>\n",
       "      <th>Perm</th>\n",
       "      <th>AI</th>\n",
       "      <th>Brittle</th>\n",
       "      <th>TOC</th>\n",
       "      <th>VR</th>\n",
       "      <th>Prod</th>\n",
       "    </tr>\n",
       "  </thead>\n",
       "  <tbody>\n",
       "    <tr>\n",
       "      <td>1</td>\n",
       "      <td>2.0</td>\n",
       "      <td>12.38</td>\n",
       "      <td>3.53</td>\n",
       "      <td>3.22</td>\n",
       "      <td>46.17</td>\n",
       "      <td>0.89</td>\n",
       "      <td>1.88</td>\n",
       "      <td>3561.146205</td>\n",
       "    </tr>\n",
       "    <tr>\n",
       "      <td>14</td>\n",
       "      <td>15.0</td>\n",
       "      <td>13.83</td>\n",
       "      <td>5.26</td>\n",
       "      <td>2.51</td>\n",
       "      <td>66.22</td>\n",
       "      <td>0.18</td>\n",
       "      <td>1.64</td>\n",
       "      <td>4323.568513</td>\n",
       "    </tr>\n",
       "    <tr>\n",
       "      <td>21</td>\n",
       "      <td>22.0</td>\n",
       "      <td>16.32</td>\n",
       "      <td>4.06</td>\n",
       "      <td>2.41</td>\n",
       "      <td>46.78</td>\n",
       "      <td>1.21</td>\n",
       "      <td>1.72</td>\n",
       "      <td>4771.307836</td>\n",
       "    </tr>\n",
       "    <tr>\n",
       "      <td>23</td>\n",
       "      <td>24.0</td>\n",
       "      <td>10.03</td>\n",
       "      <td>1.88</td>\n",
       "      <td>3.29</td>\n",
       "      <td>37.74</td>\n",
       "      <td>0.38</td>\n",
       "      <td>1.70</td>\n",
       "      <td>2515.440716</td>\n",
       "    </tr>\n",
       "    <tr>\n",
       "      <td>28</td>\n",
       "      <td>29.0</td>\n",
       "      <td>12.38</td>\n",
       "      <td>2.18</td>\n",
       "      <td>4.09</td>\n",
       "      <td>31.40</td>\n",
       "      <td>0.72</td>\n",
       "      <td>2.07</td>\n",
       "      <td>2760.485982</td>\n",
       "    </tr>\n",
       "  </tbody>\n",
       "</table>\n",
       "</div>"
      ],
      "text/plain": [
       "    Well    Por  Perm    AI  Brittle   TOC    VR         Prod\n",
       "1    2.0  12.38  3.53  3.22    46.17  0.89  1.88  3561.146205\n",
       "14  15.0  13.83  5.26  2.51    66.22  0.18  1.64  4323.568513\n",
       "21  22.0  16.32  4.06  2.41    46.78  1.21  1.72  4771.307836\n",
       "23  24.0  10.03  1.88  3.29    37.74  0.38  1.70  2515.440716\n",
       "28  29.0  12.38  2.18  4.09    31.40  0.72  2.07  2760.485982"
      ]
     },
     "execution_count": 3,
     "metadata": {},
     "output_type": "execute_result"
    }
   ],
   "source": [
    "#want to use a random 80% of the data for training data and 20% for testing data\n",
    "data_train = data.sample(n=160)\n",
    "#data_train.head()\n",
    "#data_train.sort_values(by='Well', ascending=True)\n",
    "\n",
    "#taking the rest of the data for testing -- this method makes the training and testing data mutually exclusive\n",
    "data_test = data[~data.isin(data_train)].dropna(how = 'all')\n",
    "data_test.head()"
   ]
  },
  {
   "cell_type": "markdown",
   "metadata": {},
   "source": [
    "### Building and predicting with Linear Regression:"
   ]
  },
  {
   "cell_type": "code",
   "execution_count": 101,
   "metadata": {},
   "outputs": [
    {
     "data": {
      "text/plain": [
       "0.9598934495716681"
      ]
     },
     "execution_count": 101,
     "metadata": {},
     "output_type": "execute_result"
    }
   ],
   "source": [
    "#building the linear regression model with training data\n",
    "lin_reg = LinearRegression().fit(data_train[['Por','Perm','AI','Brittle','TOC','VR']],data_train['Prod'])\n",
    "lin_reg.score(data_train[['Por','Perm','AI','Brittle','TOC','VR']],data_train['Prod'])\n",
    "#lin_reg.coef_"
   ]
  },
  {
   "cell_type": "code",
   "execution_count": 102,
   "metadata": {},
   "outputs": [],
   "source": [
    "#making predictions with the testing data\n",
    "lm_pred = lin_reg.predict(data_test[['Por','Perm','AI','Brittle','TOC','VR']])\n"
   ]
  },
  {
   "cell_type": "code",
   "execution_count": 103,
   "metadata": {},
   "outputs": [],
   "source": [
    "#adding this to the dataframe from easy visualization\n",
    "data_test['Linear'] = lm_pred"
   ]
  },
  {
   "cell_type": "code",
   "execution_count": 104,
   "metadata": {},
   "outputs": [
    {
     "data": {
      "text/html": [
       "<div>\n",
       "<style scoped>\n",
       "    .dataframe tbody tr th:only-of-type {\n",
       "        vertical-align: middle;\n",
       "    }\n",
       "\n",
       "    .dataframe tbody tr th {\n",
       "        vertical-align: top;\n",
       "    }\n",
       "\n",
       "    .dataframe thead th {\n",
       "        text-align: right;\n",
       "    }\n",
       "</style>\n",
       "<table border=\"1\" class=\"dataframe\">\n",
       "  <thead>\n",
       "    <tr style=\"text-align: right;\">\n",
       "      <th></th>\n",
       "      <th>Well</th>\n",
       "      <th>Por</th>\n",
       "      <th>Perm</th>\n",
       "      <th>AI</th>\n",
       "      <th>Brittle</th>\n",
       "      <th>TOC</th>\n",
       "      <th>VR</th>\n",
       "      <th>Prod</th>\n",
       "      <th>Linear</th>\n",
       "      <th>Ridge</th>\n",
       "      <th>LASSO</th>\n",
       "    </tr>\n",
       "  </thead>\n",
       "  <tbody>\n",
       "    <tr>\n",
       "      <td>1</td>\n",
       "      <td>2.0</td>\n",
       "      <td>12.38</td>\n",
       "      <td>3.53</td>\n",
       "      <td>3.22</td>\n",
       "      <td>46.17</td>\n",
       "      <td>0.89</td>\n",
       "      <td>1.88</td>\n",
       "      <td>3561.146205</td>\n",
       "      <td>3414.739174</td>\n",
       "      <td>3449.997544</td>\n",
       "      <td>3441.527497</td>\n",
       "    </tr>\n",
       "    <tr>\n",
       "      <td>14</td>\n",
       "      <td>15.0</td>\n",
       "      <td>13.83</td>\n",
       "      <td>5.26</td>\n",
       "      <td>2.51</td>\n",
       "      <td>66.22</td>\n",
       "      <td>0.18</td>\n",
       "      <td>1.64</td>\n",
       "      <td>4323.568513</td>\n",
       "      <td>4623.553505</td>\n",
       "      <td>4548.196411</td>\n",
       "      <td>4561.598175</td>\n",
       "    </tr>\n",
       "    <tr>\n",
       "      <td>21</td>\n",
       "      <td>22.0</td>\n",
       "      <td>16.32</td>\n",
       "      <td>4.06</td>\n",
       "      <td>2.41</td>\n",
       "      <td>46.78</td>\n",
       "      <td>1.21</td>\n",
       "      <td>1.72</td>\n",
       "      <td>4771.307836</td>\n",
       "      <td>4539.589291</td>\n",
       "      <td>4568.316100</td>\n",
       "      <td>4559.680810</td>\n",
       "    </tr>\n",
       "    <tr>\n",
       "      <td>23</td>\n",
       "      <td>24.0</td>\n",
       "      <td>10.03</td>\n",
       "      <td>1.88</td>\n",
       "      <td>3.29</td>\n",
       "      <td>37.74</td>\n",
       "      <td>0.38</td>\n",
       "      <td>1.70</td>\n",
       "      <td>2515.440716</td>\n",
       "      <td>2346.376236</td>\n",
       "      <td>2355.037751</td>\n",
       "      <td>2352.465413</td>\n",
       "    </tr>\n",
       "    <tr>\n",
       "      <td>28</td>\n",
       "      <td>29.0</td>\n",
       "      <td>12.38</td>\n",
       "      <td>2.18</td>\n",
       "      <td>4.09</td>\n",
       "      <td>31.40</td>\n",
       "      <td>0.72</td>\n",
       "      <td>2.07</td>\n",
       "      <td>2760.485982</td>\n",
       "      <td>2698.417152</td>\n",
       "      <td>2764.979518</td>\n",
       "      <td>2750.342936</td>\n",
       "    </tr>\n",
       "  </tbody>\n",
       "</table>\n",
       "</div>"
      ],
      "text/plain": [
       "    Well    Por  Perm    AI  Brittle   TOC    VR         Prod       Linear  \\\n",
       "1    2.0  12.38  3.53  3.22    46.17  0.89  1.88  3561.146205  3414.739174   \n",
       "14  15.0  13.83  5.26  2.51    66.22  0.18  1.64  4323.568513  4623.553505   \n",
       "21  22.0  16.32  4.06  2.41    46.78  1.21  1.72  4771.307836  4539.589291   \n",
       "23  24.0  10.03  1.88  3.29    37.74  0.38  1.70  2515.440716  2346.376236   \n",
       "28  29.0  12.38  2.18  4.09    31.40  0.72  2.07  2760.485982  2698.417152   \n",
       "\n",
       "          Ridge        LASSO  \n",
       "1   3449.997544  3441.527497  \n",
       "14  4548.196411  4561.598175  \n",
       "21  4568.316100  4559.680810  \n",
       "23  2355.037751  2352.465413  \n",
       "28  2764.979518  2750.342936  "
      ]
     },
     "execution_count": 104,
     "metadata": {},
     "output_type": "execute_result"
    }
   ],
   "source": [
    "data_test.head()"
   ]
  },
  {
   "cell_type": "code",
   "execution_count": 105,
   "metadata": {},
   "outputs": [
    {
     "name": "stdout",
     "output_type": "stream",
     "text": [
      "Variance explained: 0.957\n"
     ]
    }
   ],
   "source": [
    "#showing how much variance is explained by the linear regression model\n",
    "print('Variance explained: %.3f' % r2_score(data_test['Prod'].values, data_test['Linear'].values))\n"
   ]
  },
  {
   "cell_type": "code",
   "execution_count": 106,
   "metadata": {},
   "outputs": [
    {
     "data": {
      "text/plain": [
       "<matplotlib.legend.Legend at 0x1a1b8d17f0>"
      ]
     },
     "execution_count": 106,
     "metadata": {},
     "output_type": "execute_result"
    },
    {
     "data": {
      "image/png": "[encoded data removed]",
      "text/plain": [
       "<Figure size 432x288 with 1 Axes>"
      ]
     },
     "metadata": {
      "needs_background": "light"
     },
     "output_type": "display_data"
    }
   ],
   "source": [
    "#visualizing the predictions vs actual for the testing data\n",
    "plt.subplot(111)\n",
    "sns.scatterplot(data_test['Linear'],data_test['Prod'], color = 'red')\n",
    "x = np.linspace(start = np.min(data['Prod']),stop = np.max(data['Prod']), num = 1000)\n",
    "y = x\n",
    "plt.plot(x,y,color='black')\n",
    "plt.legend(['1:1 Line','Linear Regression Model'])"
   ]
  },
  {
   "cell_type": "markdown",
   "metadata": {},
   "source": [
    "### Building and predicting with Ridge Regression:"
   ]
  },
  {
   "cell_type": "code",
   "execution_count": 113,
   "metadata": {},
   "outputs": [
    {
     "data": {
      "text/plain": [
       "0.9590381249798039"
      ]
     },
     "execution_count": 113,
     "metadata": {},
     "output_type": "execute_result"
    }
   ],
   "source": [
    "#ridge regression model building\n",
    "lam = 0.7           #lambda is the shrinkage parameter -- is tuned to have model best explain variance\n",
    "ridge_reg = Ridge(alpha=lam).fit(data_train[['Por','Perm','AI','Brittle','TOC','VR']],data_train['Prod'])\n",
    "ridge_reg.score(data_train[['Por','Perm','AI','Brittle','TOC','VR']],data_train['Prod'])\n"
   ]
  },
  {
   "cell_type": "code",
   "execution_count": 114,
   "metadata": {},
   "outputs": [],
   "source": [
    "#rdige regression prediciton and addition to dataframe\n",
    "ri_pred = ridge_reg.predict(data_test[['Por','Perm','AI','Brittle','TOC','VR']])\n",
    "data_test['Ridge'] = ri_pred"
   ]
  },
  {
   "cell_type": "code",
   "execution_count": 115,
   "metadata": {},
   "outputs": [
    {
     "name": "stdout",
     "output_type": "stream",
     "text": [
      "Variance explained: 0.959\n"
     ]
    }
   ],
   "source": [
    "#variance explained by ridge regression model\n",
    "print('Variance explained: %.3f' % r2_score(data_test['Prod'].values, data_test['Ridge'].values))\n"
   ]
  },
  {
   "cell_type": "code",
   "execution_count": 116,
   "metadata": {},
   "outputs": [
    {
     "data": {
      "image/png": "[encoded data removed]",
      "text/plain": [
       "<Figure size 432x288 with 2 Axes>"
      ]
     },
     "metadata": {
      "needs_background": "light"
     },
     "output_type": "display_data"
    }
   ],
   "source": [
    "#plotting both to compare\n",
    "plt.subplot(121)\n",
    "sns.scatterplot(data_test['Linear'],data_test['Prod'], color = 'red')\n",
    "x = np.linspace(start = np.min(data['Prod']),stop = np.max(data['Prod']), num = 1000)\n",
    "y = x\n",
    "plt.plot(x,y,color='black')\n",
    "plt.legend(['1:1 Line','Linear Regression Model'])\n",
    "\n",
    "plt.subplot(122)\n",
    "sns.scatterplot(data_test['Ridge'],data_test['Prod'], color = 'blue')\n",
    "x = np.linspace(start = np.min(data['Prod']),stop = np.max(data['Prod']), num = 1000)\n",
    "y = x\n",
    "plt.plot(x,y,color='black')\n",
    "plt.legend(['1:1 Line','Ridge Regression Model'])\n",
    "\n",
    "plt.subplots_adjust(left=0.0, bottom=0.0, right=2.0, top=1.0, wspace=0.2, hspace=0.2)"
   ]
  },
  {
   "cell_type": "markdown",
   "metadata": {},
   "source": [
    "### Building and predicting with LASSO Regression:"
   ]
  },
  {
   "cell_type": "code",
   "execution_count": 107,
   "metadata": {},
   "outputs": [
    {
     "data": {
      "text/plain": [
       "0.9594386753667359"
      ]
     },
     "execution_count": 107,
     "metadata": {},
     "output_type": "execute_result"
    }
   ],
   "source": [
    "#LASSO regression\n",
    "lam_la = 1.3       #lambda tuned to maximize variance explained in the model\n",
    "lasso_reg = Lasso(alpha=lam_la).fit(data_train[['Por','Perm','AI','Brittle','TOC','VR']],data_train['Prod'])\n",
    "lasso_reg.score(data_train[['Por','Perm','AI','Brittle','TOC','VR']],data_train['Prod'])\n"
   ]
  },
  {
   "cell_type": "code",
   "execution_count": 96,
   "metadata": {},
   "outputs": [],
   "source": [
    "#predicting production values with LASSO based on testing data\n",
    "la_pred = lasso_reg.predict(data_test[['Por','Perm','AI','Brittle','TOC','VR']])\n",
    "data_test['LASSO'] = la_pred         #adding to dataframe to compare"
   ]
  },
  {
   "cell_type": "code",
   "execution_count": 97,
   "metadata": {
    "scrolled": true
   },
   "outputs": [
    {
     "name": "stdout",
     "output_type": "stream",
     "text": [
      "Variance explained: 0.959\n"
     ]
    }
   ],
   "source": [
    "#explaining variance -- used to tune lambda\n",
    "print('Variance explained: %.3f' % r2_score(data_test['Prod'].values, data_test['LASSO'].values))\n"
   ]
  },
  {
   "cell_type": "markdown",
   "metadata": {},
   "source": [
    "### Visualizing all the models with actual production values, and comparing to 1:1 line\n",
    "The 1:1 line shows how far off the model prediction is from the actual value. The closer to the line, the closer the prediction is. Below the lines means the model is underpredicting production, and above means overpredicting."
   ]
  },
  {
   "cell_type": "code",
   "execution_count": 108,
   "metadata": {},
   "outputs": [
    {
     "data": {
      "image/png": "[encoded data removed]",
      "text/plain": [
       "<Figure size 432x288 with 3 Axes>"
      ]
     },
     "metadata": {
      "needs_background": "light"
     },
     "output_type": "display_data"
    }
   ],
   "source": [
    "#visualizing all of the models with the actual production values, and comparing to 1:1 line\n",
    "plt.subplot(131)\n",
    "sns.scatterplot(data_test['Linear'],data_test['Prod'], color = 'red')\n",
    "x = np.linspace(start = np.min(data['Prod']),stop = np.max(data['Prod']), num = 1000)\n",
    "y = x\n",
    "plt.plot(x,y,color='black')\n",
    "plt.legend(['1:1 Line','Linear Regression Model'])\n",
    "\n",
    "plt.subplot(132)\n",
    "sns.scatterplot(data_test['Ridge'],data_test['Prod'], color = 'blue')\n",
    "x = np.linspace(start = np.min(data['Prod']),stop = np.max(data['Prod']), num = 1000)\n",
    "y = x\n",
    "plt.plot(x,y,color='black')\n",
    "plt.legend(['1:1 Line','Ridge Regression Model'])\n",
    "\n",
    "\n",
    "plt.subplot(133)\n",
    "sns.scatterplot(data_test['LASSO'],data_test['Prod'], color = 'green')\n",
    "x = np.linspace(start = np.min(data['Prod']),stop = np.max(data['Prod']), num = 1000)\n",
    "y = x\n",
    "plt.plot(x,y,color='black')\n",
    "plt.legend(['1:1 Line','LASSO Regression Model'])\n",
    "\n",
    "plt.subplots_adjust(left=0.0, bottom=0.0, right=2.0, top=1.0, wspace=0.2, hspace=0.2)"
   ]
  },
  {
   "cell_type": "code",
   "execution_count": 109,
   "metadata": {},
   "outputs": [
    {
     "data": {
      "text/html": [
       "<div>\n",
       "<style scoped>\n",
       "    .dataframe tbody tr th:only-of-type {\n",
       "        vertical-align: middle;\n",
       "    }\n",
       "\n",
       "    .dataframe tbody tr th {\n",
       "        vertical-align: top;\n",
       "    }\n",
       "\n",
       "    .dataframe thead th {\n",
       "        text-align: right;\n",
       "    }\n",
       "</style>\n",
       "<table border=\"1\" class=\"dataframe\">\n",
       "  <thead>\n",
       "    <tr style=\"text-align: right;\">\n",
       "      <th></th>\n",
       "      <th>Well</th>\n",
       "      <th>Por</th>\n",
       "      <th>Perm</th>\n",
       "      <th>AI</th>\n",
       "      <th>Brittle</th>\n",
       "      <th>TOC</th>\n",
       "      <th>VR</th>\n",
       "      <th>Prod</th>\n",
       "      <th>Linear</th>\n",
       "      <th>Ridge</th>\n",
       "      <th>LASSO</th>\n",
       "    </tr>\n",
       "  </thead>\n",
       "  <tbody>\n",
       "    <tr>\n",
       "      <td>1</td>\n",
       "      <td>2.0</td>\n",
       "      <td>12.38</td>\n",
       "      <td>3.53</td>\n",
       "      <td>3.22</td>\n",
       "      <td>46.17</td>\n",
       "      <td>0.89</td>\n",
       "      <td>1.88</td>\n",
       "      <td>3561.146205</td>\n",
       "      <td>3414.739174</td>\n",
       "      <td>3449.997544</td>\n",
       "      <td>3441.527497</td>\n",
       "    </tr>\n",
       "    <tr>\n",
       "      <td>14</td>\n",
       "      <td>15.0</td>\n",
       "      <td>13.83</td>\n",
       "      <td>5.26</td>\n",
       "      <td>2.51</td>\n",
       "      <td>66.22</td>\n",
       "      <td>0.18</td>\n",
       "      <td>1.64</td>\n",
       "      <td>4323.568513</td>\n",
       "      <td>4623.553505</td>\n",
       "      <td>4548.196411</td>\n",
       "      <td>4561.598175</td>\n",
       "    </tr>\n",
       "    <tr>\n",
       "      <td>21</td>\n",
       "      <td>22.0</td>\n",
       "      <td>16.32</td>\n",
       "      <td>4.06</td>\n",
       "      <td>2.41</td>\n",
       "      <td>46.78</td>\n",
       "      <td>1.21</td>\n",
       "      <td>1.72</td>\n",
       "      <td>4771.307836</td>\n",
       "      <td>4539.589291</td>\n",
       "      <td>4568.316100</td>\n",
       "      <td>4559.680810</td>\n",
       "    </tr>\n",
       "    <tr>\n",
       "      <td>23</td>\n",
       "      <td>24.0</td>\n",
       "      <td>10.03</td>\n",
       "      <td>1.88</td>\n",
       "      <td>3.29</td>\n",
       "      <td>37.74</td>\n",
       "      <td>0.38</td>\n",
       "      <td>1.70</td>\n",
       "      <td>2515.440716</td>\n",
       "      <td>2346.376236</td>\n",
       "      <td>2355.037751</td>\n",
       "      <td>2352.465413</td>\n",
       "    </tr>\n",
       "    <tr>\n",
       "      <td>28</td>\n",
       "      <td>29.0</td>\n",
       "      <td>12.38</td>\n",
       "      <td>2.18</td>\n",
       "      <td>4.09</td>\n",
       "      <td>31.40</td>\n",
       "      <td>0.72</td>\n",
       "      <td>2.07</td>\n",
       "      <td>2760.485982</td>\n",
       "      <td>2698.417152</td>\n",
       "      <td>2764.979518</td>\n",
       "      <td>2750.342936</td>\n",
       "    </tr>\n",
       "  </tbody>\n",
       "</table>\n",
       "</div>"
      ],
      "text/plain": [
       "    Well    Por  Perm    AI  Brittle   TOC    VR         Prod       Linear  \\\n",
       "1    2.0  12.38  3.53  3.22    46.17  0.89  1.88  3561.146205  3414.739174   \n",
       "14  15.0  13.83  5.26  2.51    66.22  0.18  1.64  4323.568513  4623.553505   \n",
       "21  22.0  16.32  4.06  2.41    46.78  1.21  1.72  4771.307836  4539.589291   \n",
       "23  24.0  10.03  1.88  3.29    37.74  0.38  1.70  2515.440716  2346.376236   \n",
       "28  29.0  12.38  2.18  4.09    31.40  0.72  2.07  2760.485982  2698.417152   \n",
       "\n",
       "          Ridge        LASSO  \n",
       "1   3449.997544  3441.527497  \n",
       "14  4548.196411  4561.598175  \n",
       "21  4568.316100  4559.680810  \n",
       "23  2355.037751  2352.465413  \n",
       "28  2764.979518  2750.342936  "
      ]
     },
     "execution_count": 109,
     "metadata": {},
     "output_type": "execute_result"
    }
   ],
   "source": [
    "data_test.head()"
   ]
  },
  {
   "cell_type": "markdown",
   "metadata": {},
   "source": [
    "# Executive Summary:\n",
    "The challenge was to create a model to predict production using porosity, permeability, brittleness, acoustic impedance, total organic carbon, and VR. This was done by creating a linear regression model, a ridge regression model, and a LASSO regression model. The variance explained was the same for all of the models after tuning the shrinkage parameter, and showed that the models perform very well (although on average, slightly below actual production). The recommendation is to use the linear regression model since the results are consistent throughout and this is the simplest (and therefore most computationally inexpensive) model."
   ]
  },
  {
   "cell_type": "code",
   "execution_count": null,
   "metadata": {},
   "outputs": [],
   "source": []
  }
 ],
 "metadata": {
  "kernelspec": {
   "display_name": "Python 3",
   "language": "python",
   "name": "python3"
  },
  "language_info": {
   "codemirror_mode": {
    "name": "ipython",
    "version": 3
   },
   "file_extension": ".py",
   "mimetype": "text/x-python",
   "name": "python",
   "nbconvert_exporter": "python",
   "pygments_lexer": "ipython3",
   "version": "3.6.9"
  }
 },
 "nbformat": 4,
 "nbformat_minor": 2
}
