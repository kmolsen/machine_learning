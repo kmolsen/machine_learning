{
 "cells": [
  {
   "cell_type": "markdown",
   "metadata": {},
   "source": [
    "# Predicting Porosity from Seismic P-wave Velocity\n",
    "## Kelly Olsen - kolsen@utexas.edu\n",
    "### Subsurface Machine Learning Final Project (GEO 391) - Fall 2019\n",
    "### Instructor: Michael Pyrcz\n",
    "### University of Texas at Austin\n"
   ]
  },
  {
   "cell_type": "markdown",
   "metadata": {},
   "source": [
    "## Executive Summary\n",
    "\n",
    "The goal of this was to use velocity data from a seismic reflection survey to predict porosity in the sediments at the south-central Chile subduction zone using three different models that vary in complexity, and to evaluate whether it is necessary to use a more complicated model. I have created a basic decision tree model, an ensemble, random forest model, and a random forest model where I optimized parameter values for max depth and minimum leaf split. The result is three different models that look very similar. The correlation coefficients on the testing data were all very high (>0.95). The grid search random forest took longer to instantiate the model, and only performed marginally better. Therefore, I would recommend the random forest approach -- it produces a smoother model than a single decision tree, and performs only slightly worse than the grid search random forest."
   ]
  },
  {
   "cell_type": "markdown",
   "metadata": {},
   "source": [
    "## Introduction\n",
    "I will be using a seismic reflection dataset where I have previously picked seismic velocities. The dataset was collected off of south-central Chile using a 15.15-km-long streamer, so the velocity data within flat-lying sediments is fairly well constrained. This dataset is currently part of a publication that is in review (Thick, strong sediment subduction along south-central Chile and its role in great earthquakes, Olsen, K.M.,Bangs, N. L, Tréhu, A. M.,\n",
    "Han, S, Arnulf, A; Contreras Reyes, E., Earth and Planetary Science Letters, in review).\n",
    "\n",
    "A core also exists in this area, and porosity measurements were taken on the core. However, the porosity data does not extend through the entire sediment section, so values will need to be interpolated based on a porosity vs depth trend (general compaction trend, see below).\n",
    "\n",
    "The goal of this workflow is to predict porosity using three models of varying complexity, and compare their performance. The models are all based on decision trees - one is a simple decision tree, one a random forest, and finally, a gridded-searched random forest, which tries to best estimate the parameters of random forest using an exhaustive method. The models are evaluated by comparing the correlation coefficients and comparing 2D velocity images.\n",
    "\n",
    "There are many advantages for using decision trees. For one, they are simple and easy to interpret. This is not a very complex problem, since only one predictor feature is used, but the relationship between velocity and porosity is slightly more complicated. This method allows us to not make any assumptions about how velocity changes with porosity. Decision trees also require little data preparation (i.e. less sensitive to outliers/missing data) and data type is not a constraint, it's easy to evaluate how the model is doing statistically, and can quickly be applied to large datasets (for instance, I could implement this quickly for the other 13 seismic lines I have in this area). More information on decision trees and the packages I use can be found here: https://scikit-learn.org/stable/modules/tree.html#tree and here: https://scikit-learn.org/stable/modules/ensemble.html#ensemble\n",
    "\n",
    "The other packages are shown below: I use matplotlib (https://matplotlib.org/) and seaborn (https://seaborn.pydata.org/) to visualize, and scikit-learn to split the data (https://scikit-learn.org/stable/modules/generated/sklearn.model_selection.train_test_split.html). I also keep everything in a pandas dataframe (https://pandas.pydata.org/pandas-docs/stable/reference/api/pandas.DataFrame.html) -- this makes it super easy to use."
   ]
  },
  {
   "cell_type": "code",
   "execution_count": 1,
   "metadata": {},
   "outputs": [],
   "source": [
    "#importing necessary packages\n",
    "import os\n",
    "import math\n",
    "import pandas as pd\n",
    "import seaborn as sns\n",
    "import numpy as np\n",
    "import matplotlib.pyplot as plt\n",
    "from sklearn.model_selection import train_test_split        # train and test split\n",
    "\n",
    "from sklearn.tree import DecisionTreeRegressor              # decision tree method\n",
    "from sklearn.ensemble import RandomForestRegressor          # random forest method\n",
    "\n",
    "from sklearn.model_selection import GridSearchCV            # gridded search to tune the hyperparameters\n"
   ]
  },
  {
   "cell_type": "markdown",
   "metadata": {},
   "source": [
    "I've imported the packages I need, and will also define a super simple function I use a few times below to round to a certain base."
   ]
  },
  {
   "cell_type": "code",
   "execution_count": 2,
   "metadata": {},
   "outputs": [],
   "source": [
    "def baseround(x, base):\n",
    "    return base * round(x/base)"
   ]
  },
  {
   "cell_type": "markdown",
   "metadata": {},
   "source": [
    "I'm also setting my directory so I have access to all the necessary files."
   ]
  },
  {
   "cell_type": "code",
   "execution_count": 3,
   "metadata": {},
   "outputs": [],
   "source": [
    "os.chdir('/Users/kellyolsen/Documents/Classes/ML2019/Project')"
   ]
  },
  {
   "cell_type": "markdown",
   "metadata": {},
   "source": [
    "## Data\n",
    "Importing the velocity dataset. The dataset is a 2D velocity file (in depth) created from normal move-out analysis, which involves fitting a curve to a offset vs time dataset (some of my PhD work). The dataset is CDP (common dip point, a spatial point), depth, and velocity for a given line (here's some more information on velocity analysis if you want to know more: https://wiki.seg.org/wiki/Velocity_analysis). The velocity profile has been smoothed.\n",
    "\n",
    "The values are sampled every 100 cdps (625 m) and every 5 m in depth (the smallest sampling interval based on my the sampling rate of the data in time). The velocity data is regularly sampled, and the uncertainty is estimated at ~2-5% of the velocity values (Olsen et al., in review)."
   ]
  },
  {
   "cell_type": "code",
   "execution_count": 4,
   "metadata": {},
   "outputs": [
    {
     "data": {
      "text/html": [
       "<div>\n",
       "<style scoped>\n",
       "    .dataframe tbody tr th:only-of-type {\n",
       "        vertical-align: middle;\n",
       "    }\n",
       "\n",
       "    .dataframe tbody tr th {\n",
       "        vertical-align: top;\n",
       "    }\n",
       "\n",
       "    .dataframe thead th {\n",
       "        text-align: right;\n",
       "    }\n",
       "</style>\n",
       "<table border=\"1\" class=\"dataframe\">\n",
       "  <thead>\n",
       "    <tr style=\"text-align: right;\">\n",
       "      <th></th>\n",
       "      <th>Line</th>\n",
       "      <th>CDP</th>\n",
       "      <th>Depth</th>\n",
       "      <th>Velocity</th>\n",
       "    </tr>\n",
       "  </thead>\n",
       "  <tbody>\n",
       "    <tr>\n",
       "      <th>0</th>\n",
       "      <td>28</td>\n",
       "      <td>9000</td>\n",
       "      <td>5</td>\n",
       "      <td>1499</td>\n",
       "    </tr>\n",
       "    <tr>\n",
       "      <th>1</th>\n",
       "      <td>28</td>\n",
       "      <td>9000</td>\n",
       "      <td>10</td>\n",
       "      <td>1499</td>\n",
       "    </tr>\n",
       "    <tr>\n",
       "      <th>2</th>\n",
       "      <td>28</td>\n",
       "      <td>9000</td>\n",
       "      <td>15</td>\n",
       "      <td>1499</td>\n",
       "    </tr>\n",
       "    <tr>\n",
       "      <th>3</th>\n",
       "      <td>28</td>\n",
       "      <td>9000</td>\n",
       "      <td>20</td>\n",
       "      <td>1499</td>\n",
       "    </tr>\n",
       "    <tr>\n",
       "      <th>4</th>\n",
       "      <td>28</td>\n",
       "      <td>9000</td>\n",
       "      <td>25</td>\n",
       "      <td>1499</td>\n",
       "    </tr>\n",
       "  </tbody>\n",
       "</table>\n",
       "</div>"
      ],
      "text/plain": [
       "   Line   CDP  Depth  Velocity\n",
       "0    28  9000      5      1499\n",
       "1    28  9000     10      1499\n",
       "2    28  9000     15      1499\n",
       "3    28  9000     20      1499\n",
       "4    28  9000     25      1499"
      ]
     },
     "execution_count": 4,
     "metadata": {},
     "output_type": "execute_result"
    }
   ],
   "source": [
    "df = pd.read_csv('028vels')\n",
    "df.columns = ['Line','CDP','Depth','Velocity']\n",
    "df.head()"
   ]
  },
  {
   "cell_type": "markdown",
   "metadata": {},
   "source": [
    "The second dataset I need is the core data from a site (1232) very close to this seismic line, cored by what is now the International Ocean Discovery Program (http://iodp.tamu.edu/database/). These data are not regularly-sampled, and have some noise. The porosity data (which I am interested in) are measured using Moisture and density (MAD) porosity measurements on the core itself (more information on that here: http://www-odp.tamu.edu/publications/tnotes/tn37/tn37_8.htm)"
   ]
  },
  {
   "cell_type": "code",
   "execution_count": 5,
   "metadata": {
    "scrolled": false
   },
   "outputs": [
    {
     "data": {
      "text/html": [
       "<div>\n",
       "<style scoped>\n",
       "    .dataframe tbody tr th:only-of-type {\n",
       "        vertical-align: middle;\n",
       "    }\n",
       "\n",
       "    .dataframe tbody tr th {\n",
       "        vertical-align: top;\n",
       "    }\n",
       "\n",
       "    .dataframe thead th {\n",
       "        text-align: right;\n",
       "    }\n",
       "</style>\n",
       "<table border=\"1\" class=\"dataframe\">\n",
       "  <thead>\n",
       "    <tr style=\"text-align: right;\">\n",
       "      <th></th>\n",
       "      <th>Site</th>\n",
       "      <th>H</th>\n",
       "      <th>Cor</th>\n",
       "      <th>T</th>\n",
       "      <th>Sc</th>\n",
       "      <th>Top(cm)</th>\n",
       "      <th>Bot(cm)</th>\n",
       "      <th>Depth (mbsf)</th>\n",
       "      <th>WW (%)</th>\n",
       "      <th>WD (%)</th>\n",
       "      <th>BD (g/cc)</th>\n",
       "      <th>DD (g/cc)</th>\n",
       "      <th>GD (g/cc)</th>\n",
       "      <th>PO (%)</th>\n",
       "      <th>VR</th>\n",
       "      <th>Method</th>\n",
       "      <th>Comments</th>\n",
       "    </tr>\n",
       "  </thead>\n",
       "  <tbody>\n",
       "    <tr>\n",
       "      <th>202</th>\n",
       "      <td>1232</td>\n",
       "      <td>A</td>\n",
       "      <td>1</td>\n",
       "      <td>H</td>\n",
       "      <td>1</td>\n",
       "      <td>74.0</td>\n",
       "      <td>76.0</td>\n",
       "      <td>0.74</td>\n",
       "      <td>52.6</td>\n",
       "      <td>110.9</td>\n",
       "      <td>1.463</td>\n",
       "      <td>0.694</td>\n",
       "      <td>2.787</td>\n",
       "      <td>75.1</td>\n",
       "      <td>3.018</td>\n",
       "      <td>C</td>\n",
       "      <td></td>\n",
       "    </tr>\n",
       "    <tr>\n",
       "      <th>202</th>\n",
       "      <td>1232</td>\n",
       "      <td>A</td>\n",
       "      <td>1</td>\n",
       "      <td>H</td>\n",
       "      <td>2</td>\n",
       "      <td>74.0</td>\n",
       "      <td>76.0</td>\n",
       "      <td>2.25</td>\n",
       "      <td>43.0</td>\n",
       "      <td>75.5</td>\n",
       "      <td>1.619</td>\n",
       "      <td>0.923</td>\n",
       "      <td>2.886</td>\n",
       "      <td>68.0</td>\n",
       "      <td>2.128</td>\n",
       "      <td>C</td>\n",
       "      <td></td>\n",
       "    </tr>\n",
       "    <tr>\n",
       "      <th>202</th>\n",
       "      <td>1232</td>\n",
       "      <td>A</td>\n",
       "      <td>1</td>\n",
       "      <td>H</td>\n",
       "      <td>3</td>\n",
       "      <td>74.0</td>\n",
       "      <td>76.0</td>\n",
       "      <td>3.75</td>\n",
       "      <td>44.3</td>\n",
       "      <td>79.4</td>\n",
       "      <td>1.575</td>\n",
       "      <td>0.878</td>\n",
       "      <td>2.751</td>\n",
       "      <td>68.1</td>\n",
       "      <td>2.134</td>\n",
       "      <td>C</td>\n",
       "      <td></td>\n",
       "    </tr>\n",
       "    <tr>\n",
       "      <th>202</th>\n",
       "      <td>1232</td>\n",
       "      <td>A</td>\n",
       "      <td>1</td>\n",
       "      <td>H</td>\n",
       "      <td>4</td>\n",
       "      <td>74.0</td>\n",
       "      <td>76.0</td>\n",
       "      <td>5.26</td>\n",
       "      <td>30.1</td>\n",
       "      <td>43.0</td>\n",
       "      <td>1.835</td>\n",
       "      <td>1.283</td>\n",
       "      <td>2.784</td>\n",
       "      <td>53.9</td>\n",
       "      <td>1.169</td>\n",
       "      <td>C</td>\n",
       "      <td></td>\n",
       "    </tr>\n",
       "    <tr>\n",
       "      <th>202</th>\n",
       "      <td>1232</td>\n",
       "      <td>A</td>\n",
       "      <td>1</td>\n",
       "      <td>H</td>\n",
       "      <td>5</td>\n",
       "      <td>74.0</td>\n",
       "      <td>76.0</td>\n",
       "      <td>6.76</td>\n",
       "      <td>42.0</td>\n",
       "      <td>72.5</td>\n",
       "      <td>1.615</td>\n",
       "      <td>0.936</td>\n",
       "      <td>2.780</td>\n",
       "      <td>66.3</td>\n",
       "      <td>1.970</td>\n",
       "      <td>C</td>\n",
       "      <td></td>\n",
       "    </tr>\n",
       "  </tbody>\n",
       "</table>\n",
       "</div>"
      ],
      "text/plain": [
       "     Site  H  Cor  T  Sc  Top(cm)  Bot(cm)  Depth (mbsf)  WW (%)  WD (%)  \\\n",
       "202  1232  A    1  H   1     74.0     76.0          0.74    52.6   110.9   \n",
       "202  1232  A    1  H   2     74.0     76.0          2.25    43.0    75.5   \n",
       "202  1232  A    1  H   3     74.0     76.0          3.75    44.3    79.4   \n",
       "202  1232  A    1  H   4     74.0     76.0          5.26    30.1    43.0   \n",
       "202  1232  A    1  H   5     74.0     76.0          6.76    42.0    72.5   \n",
       "\n",
       "     BD (g/cc)  DD (g/cc)  GD (g/cc)  PO (%)  VR      Method  Comments  \n",
       "202      1.463      0.694      2.787    75.1   3.018       C            \n",
       "202      1.619      0.923      2.886    68.0   2.128       C            \n",
       "202      1.575      0.878      2.751    68.1   2.134       C            \n",
       "202      1.835      1.283      2.784    53.9   1.169       C            \n",
       "202      1.615      0.936      2.780    66.3   1.970       C            "
      ]
     },
     "execution_count": 5,
     "metadata": {},
     "output_type": "execute_result"
    }
   ],
   "source": [
    "coredata = pd.read_table('por_data.txt')\n",
    "coredata.rename(columns={'ite':'Site'},inplace = True)\n",
    "coredata.head()"
   ]
  },
  {
   "cell_type": "markdown",
   "metadata": {},
   "source": [
    "I only really plan on using porosity (and need depth to tie to the seismic data), so I'll add this to another dataframe. I could keep all of the data, but I'd like to not have to index it everytime."
   ]
  },
  {
   "cell_type": "code",
   "execution_count": 6,
   "metadata": {
    "scrolled": true
   },
   "outputs": [
    {
     "data": {
      "text/html": [
       "<div>\n",
       "<style scoped>\n",
       "    .dataframe tbody tr th:only-of-type {\n",
       "        vertical-align: middle;\n",
       "    }\n",
       "\n",
       "    .dataframe tbody tr th {\n",
       "        vertical-align: top;\n",
       "    }\n",
       "\n",
       "    .dataframe thead th {\n",
       "        text-align: right;\n",
       "    }\n",
       "</style>\n",
       "<table border=\"1\" class=\"dataframe\">\n",
       "  <thead>\n",
       "    <tr style=\"text-align: right;\">\n",
       "      <th></th>\n",
       "      <th>Depth (mbsf)</th>\n",
       "      <th>PO (%)</th>\n",
       "    </tr>\n",
       "  </thead>\n",
       "  <tbody>\n",
       "    <tr>\n",
       "      <th>202</th>\n",
       "      <td>0.74</td>\n",
       "      <td>75.1</td>\n",
       "    </tr>\n",
       "    <tr>\n",
       "      <th>202</th>\n",
       "      <td>2.25</td>\n",
       "      <td>68.0</td>\n",
       "    </tr>\n",
       "    <tr>\n",
       "      <th>202</th>\n",
       "      <td>3.75</td>\n",
       "      <td>68.1</td>\n",
       "    </tr>\n",
       "    <tr>\n",
       "      <th>202</th>\n",
       "      <td>5.26</td>\n",
       "      <td>53.9</td>\n",
       "    </tr>\n",
       "    <tr>\n",
       "      <th>202</th>\n",
       "      <td>6.76</td>\n",
       "      <td>66.3</td>\n",
       "    </tr>\n",
       "  </tbody>\n",
       "</table>\n",
       "</div>"
      ],
      "text/plain": [
       "     Depth (mbsf)  PO (%)\n",
       "202          0.74    75.1\n",
       "202          2.25    68.0\n",
       "202          3.75    68.1\n",
       "202          5.26    53.9\n",
       "202          6.76    66.3"
      ]
     },
     "execution_count": 6,
     "metadata": {},
     "output_type": "execute_result"
    }
   ],
   "source": [
    "working_data = coredata[['Depth (mbsf)','PO (%)']]\n",
    "working_data.head()"
   ]
  },
  {
   "cell_type": "markdown",
   "metadata": {},
   "source": [
    "The last dataset I need is seafloor depth -- this is necessary because porosity is measured in meters below seafloor, while the velocity is meters below sealevel. Thankfully, I have picked the seafloor for this line previously and can just import it. I really only need it for one location -- after I relate velocity to porosity, I no longer need depth."
   ]
  },
  {
   "cell_type": "code",
   "execution_count": 7,
   "metadata": {},
   "outputs": [
    {
     "data": {
      "text/html": [
       "<div>\n",
       "<style scoped>\n",
       "    .dataframe tbody tr th:only-of-type {\n",
       "        vertical-align: middle;\n",
       "    }\n",
       "\n",
       "    .dataframe tbody tr th {\n",
       "        vertical-align: top;\n",
       "    }\n",
       "\n",
       "    .dataframe thead th {\n",
       "        text-align: right;\n",
       "    }\n",
       "</style>\n",
       "<table border=\"1\" class=\"dataframe\">\n",
       "  <thead>\n",
       "    <tr style=\"text-align: right;\">\n",
       "      <th></th>\n",
       "      <th>Line</th>\n",
       "      <th>CDP</th>\n",
       "      <th>Depth</th>\n",
       "    </tr>\n",
       "  </thead>\n",
       "  <tbody>\n",
       "    <tr>\n",
       "      <th>0</th>\n",
       "      <td>28</td>\n",
       "      <td>9744.0</td>\n",
       "      <td>4074.72</td>\n",
       "    </tr>\n",
       "    <tr>\n",
       "      <th>1</th>\n",
       "      <td>28</td>\n",
       "      <td>9745.0</td>\n",
       "      <td>4074.64</td>\n",
       "    </tr>\n",
       "    <tr>\n",
       "      <th>2</th>\n",
       "      <td>28</td>\n",
       "      <td>9746.0</td>\n",
       "      <td>4074.56</td>\n",
       "    </tr>\n",
       "    <tr>\n",
       "      <th>3</th>\n",
       "      <td>28</td>\n",
       "      <td>9747.0</td>\n",
       "      <td>4074.48</td>\n",
       "    </tr>\n",
       "    <tr>\n",
       "      <th>4</th>\n",
       "      <td>28</td>\n",
       "      <td>9748.0</td>\n",
       "      <td>4074.40</td>\n",
       "    </tr>\n",
       "  </tbody>\n",
       "</table>\n",
       "</div>"
      ],
      "text/plain": [
       "   Line     CDP    Depth\n",
       "0    28  9744.0  4074.72\n",
       "1    28  9745.0  4074.64\n",
       "2    28  9746.0  4074.56\n",
       "3    28  9747.0  4074.48\n",
       "4    28  9748.0  4074.40"
      ]
     },
     "execution_count": 7,
     "metadata": {},
     "output_type": "execute_result"
    }
   ],
   "source": [
    "SF = pd.read_csv('028seafloor_formatted')\n",
    "SF.columns = ['Line','CDP','Depth']\n",
    "SF.head()"
   ]
  },
  {
   "cell_type": "markdown",
   "metadata": {},
   "source": [
    "## Basic Data Visualization and QC \n",
    "Here I visualize the velocity image. Yellow is are ocean crust, and purple is the actual ocean. The other colors are the sediment velocities. What we're seeing here is the incoming Nazca Plate beginning to subduct beneath the South American plate in Chile. The velocity data comes from velocity analysis of 15.15km-long-streamer data (my PhD work, Olsen et al., EPSL, in review)."
   ]
  },
  {
   "cell_type": "code",
   "execution_count": 8,
   "metadata": {},
   "outputs": [
    {
     "data": {
      "image/png": "[encoded data removed]",
      "text/plain": [
       "<Figure size 432x288 with 2 Axes>"
      ]
     },
     "metadata": {
      "needs_background": "light"
     },
     "output_type": "display_data"
    }
   ],
   "source": [
    "image = plt.scatter(df['CDP'],df['Depth'], c=df['Velocity'], vmin=1350, vmax=5000)\n",
    "plt.ylim(0,8000)\n",
    "plt.gca().invert_yaxis()\n",
    "cbar = plt.colorbar(image, orientation = 'vertical')\n",
    "cbar.set_label(\"Velocity\", rotation=270, labelpad=20)\n",
    "plt.xlabel('CDP number')\n",
    "plt.ylabel('Depth (meters below sea level)')\n",
    "plt.show()"
   ]
  },
  {
   "cell_type": "markdown",
   "metadata": {},
   "source": [
    "Here's a structual seismic reflection image showing a little more detail on what's going on (although the area displayed is slightly shifted) (Olsen et al., in review, EPSL):\n",
    "\n",
    "<img src=\"028.png\" width=\"400\"> \n",
    "\n",
    "<br />\n",
    "\n",
    "We can also look at the stats to see the extent of the velocity. The way I made this file, the max velocity should be 6,000 m/s, and the min is defined based on water p-wave velocity. This also lets me know my depth is 10,000 m."
   ]
  },
  {
   "cell_type": "code",
   "execution_count": 9,
   "metadata": {},
   "outputs": [
    {
     "data": {
      "text/html": [
       "<div>\n",
       "<style scoped>\n",
       "    .dataframe tbody tr th:only-of-type {\n",
       "        vertical-align: middle;\n",
       "    }\n",
       "\n",
       "    .dataframe tbody tr th {\n",
       "        vertical-align: top;\n",
       "    }\n",
       "\n",
       "    .dataframe thead th {\n",
       "        text-align: right;\n",
       "    }\n",
       "</style>\n",
       "<table border=\"1\" class=\"dataframe\">\n",
       "  <thead>\n",
       "    <tr style=\"text-align: right;\">\n",
       "      <th></th>\n",
       "      <th>Line</th>\n",
       "      <th>CDP</th>\n",
       "      <th>Depth</th>\n",
       "      <th>Velocity</th>\n",
       "    </tr>\n",
       "  </thead>\n",
       "  <tbody>\n",
       "    <tr>\n",
       "      <th>count</th>\n",
       "      <td>152075.0</td>\n",
       "      <td>152075.000000</td>\n",
       "      <td>152075.000000</td>\n",
       "      <td>152075.000000</td>\n",
       "    </tr>\n",
       "    <tr>\n",
       "      <th>mean</th>\n",
       "      <td>28.0</td>\n",
       "      <td>12750.024659</td>\n",
       "      <td>5000.032879</td>\n",
       "      <td>3646.550847</td>\n",
       "    </tr>\n",
       "    <tr>\n",
       "      <th>std</th>\n",
       "      <td>0.0</td>\n",
       "      <td>2193.734446</td>\n",
       "      <td>2888.184893</td>\n",
       "      <td>1991.251158</td>\n",
       "    </tr>\n",
       "    <tr>\n",
       "      <th>min</th>\n",
       "      <td>28.0</td>\n",
       "      <td>9000.000000</td>\n",
       "      <td>0.000000</td>\n",
       "      <td>1489.000000</td>\n",
       "    </tr>\n",
       "    <tr>\n",
       "      <th>25%</th>\n",
       "      <td>28.0</td>\n",
       "      <td>10900.000000</td>\n",
       "      <td>2500.000000</td>\n",
       "      <td>1500.000000</td>\n",
       "    </tr>\n",
       "    <tr>\n",
       "      <th>50%</th>\n",
       "      <td>28.0</td>\n",
       "      <td>12800.000000</td>\n",
       "      <td>5000.000000</td>\n",
       "      <td>4442.000000</td>\n",
       "    </tr>\n",
       "    <tr>\n",
       "      <th>75%</th>\n",
       "      <td>28.0</td>\n",
       "      <td>14650.000000</td>\n",
       "      <td>7500.000000</td>\n",
       "      <td>5633.000000</td>\n",
       "    </tr>\n",
       "    <tr>\n",
       "      <th>max</th>\n",
       "      <td>28.0</td>\n",
       "      <td>16500.000000</td>\n",
       "      <td>10000.000000</td>\n",
       "      <td>6000.000000</td>\n",
       "    </tr>\n",
       "  </tbody>\n",
       "</table>\n",
       "</div>"
      ],
      "text/plain": [
       "           Line            CDP          Depth       Velocity\n",
       "count  152075.0  152075.000000  152075.000000  152075.000000\n",
       "mean       28.0   12750.024659    5000.032879    3646.550847\n",
       "std         0.0    2193.734446    2888.184893    1991.251158\n",
       "min        28.0    9000.000000       0.000000    1489.000000\n",
       "25%        28.0   10900.000000    2500.000000    1500.000000\n",
       "50%        28.0   12800.000000    5000.000000    4442.000000\n",
       "75%        28.0   14650.000000    7500.000000    5633.000000\n",
       "max        28.0   16500.000000   10000.000000    6000.000000"
      ]
     },
     "execution_count": 9,
     "metadata": {},
     "output_type": "execute_result"
    }
   ],
   "source": [
    "df.describe()"
   ]
  },
  {
   "cell_type": "markdown",
   "metadata": {},
   "source": [
    "The porosity vs depth data need to be extended, because they only go to 361 m. To train the data for the full velocity values I have, I need to extrapolate with a model based on the relationship:\n",
    "φ(z)=φ1+(φ0−φ1)e$−kz$ \n",
    "\n",
    "φ(z) is the porosity at a certain depth, φ1 is minimu porosity, φ0 is initial porosity, and k is a factor dependent on rock type. I've adjusted these to best fit my data. (Athy, L. F., 1930. Density, porosity, and compaction of sedimentary rocks: American Association of Petroleum Geologists Bulletin, v. 14.)\n",
    "\n",
    "I'm also going to add noise to both the depth and porosity values to make it more realistic and to match my actual porosity data."
   ]
  },
  {
   "cell_type": "code",
   "execution_count": 10,
   "metadata": {},
   "outputs": [],
   "source": [
    "z = np.linspace(365,5000.0,927)\n",
    "phi0 =70\n",
    "phi1 = .3\n",
    "k = 0.0009\n",
    "\n",
    "zz = z + np.random.normal(0,50,927)\n",
    "phi_zz = (phi1 + (phi0 - phi1)*np.exp(-k*zz) + np.random.normal(0,4,927)).tolist()"
   ]
  },
  {
   "cell_type": "markdown",
   "metadata": {},
   "source": [
    "I'm made the extended dataset, and I'm now going to plot it with the measured values."
   ]
  },
  {
   "cell_type": "code",
   "execution_count": 11,
   "metadata": {},
   "outputs": [
    {
     "data": {
      "image/png": "[encoded data removed]",
      "text/plain": [
       "<Figure size 432x288 with 1 Axes>"
      ]
     },
     "metadata": {
      "needs_background": "light"
     },
     "output_type": "display_data"
    }
   ],
   "source": [
    "plt.xlabel('Porosity (%)')\n",
    "plt.ylabel('Depth (m)')\n",
    "plt.plot(working_data['PO (%)'],working_data['Depth (mbsf)'],label='Actual values')\n",
    "plt.plot(phi_zz,zz,label='Extrapolated values')\n",
    "plt.legend()\n",
    "plt.gca().invert_yaxis()"
   ]
  },
  {
   "cell_type": "markdown",
   "metadata": {},
   "source": [
    "It matches well! And the noise is similar to the actual data. I'm going to add these to a new pandas dataframe."
   ]
  },
  {
   "cell_type": "code",
   "execution_count": 12,
   "metadata": {},
   "outputs": [],
   "source": [
    "pors = working_data['PO (%)'].tolist()\n",
    "pors = pors + phi_zz\n",
    "depths = working_data['Depth (mbsf)'].tolist()\n",
    "depths.extend(zz)\n",
    "pordata = pd.DataFrame({'Depth (mbsf)': depths,'PO (%)': pors})"
   ]
  },
  {
   "cell_type": "markdown",
   "metadata": {},
   "source": [
    "## Feature Manipulation/Data Prep\n",
    "Here's where I catagorize the data as either water (velocity less than 1510 m/s), oceanic crust (velocity > 4700), and sediment. This will be used later, when sediment velocity is used to predict porosity"
   ]
  },
  {
   "cell_type": "code",
   "execution_count": 13,
   "metadata": {},
   "outputs": [
    {
     "data": {
      "text/html": [
       "<div>\n",
       "<style scoped>\n",
       "    .dataframe tbody tr th:only-of-type {\n",
       "        vertical-align: middle;\n",
       "    }\n",
       "\n",
       "    .dataframe tbody tr th {\n",
       "        vertical-align: top;\n",
       "    }\n",
       "\n",
       "    .dataframe thead th {\n",
       "        text-align: right;\n",
       "    }\n",
       "</style>\n",
       "<table border=\"1\" class=\"dataframe\">\n",
       "  <thead>\n",
       "    <tr style=\"text-align: right;\">\n",
       "      <th></th>\n",
       "      <th>Line</th>\n",
       "      <th>CDP</th>\n",
       "      <th>Depth</th>\n",
       "      <th>Velocity</th>\n",
       "      <th>Material</th>\n",
       "    </tr>\n",
       "  </thead>\n",
       "  <tbody>\n",
       "    <tr>\n",
       "      <th>0</th>\n",
       "      <td>28</td>\n",
       "      <td>9000</td>\n",
       "      <td>5</td>\n",
       "      <td>1499</td>\n",
       "      <td>Water</td>\n",
       "    </tr>\n",
       "    <tr>\n",
       "      <th>1</th>\n",
       "      <td>28</td>\n",
       "      <td>9000</td>\n",
       "      <td>10</td>\n",
       "      <td>1499</td>\n",
       "      <td>Water</td>\n",
       "    </tr>\n",
       "    <tr>\n",
       "      <th>2</th>\n",
       "      <td>28</td>\n",
       "      <td>9000</td>\n",
       "      <td>15</td>\n",
       "      <td>1499</td>\n",
       "      <td>Water</td>\n",
       "    </tr>\n",
       "    <tr>\n",
       "      <th>3</th>\n",
       "      <td>28</td>\n",
       "      <td>9000</td>\n",
       "      <td>20</td>\n",
       "      <td>1499</td>\n",
       "      <td>Water</td>\n",
       "    </tr>\n",
       "    <tr>\n",
       "      <th>4</th>\n",
       "      <td>28</td>\n",
       "      <td>9000</td>\n",
       "      <td>25</td>\n",
       "      <td>1499</td>\n",
       "      <td>Water</td>\n",
       "    </tr>\n",
       "  </tbody>\n",
       "</table>\n",
       "</div>"
      ],
      "text/plain": [
       "   Line   CDP  Depth  Velocity Material\n",
       "0    28  9000      5      1499    Water\n",
       "1    28  9000     10      1499    Water\n",
       "2    28  9000     15      1499    Water\n",
       "3    28  9000     20      1499    Water\n",
       "4    28  9000     25      1499    Water"
      ]
     },
     "execution_count": 13,
     "metadata": {},
     "output_type": "execute_result"
    }
   ],
   "source": [
    "df['Material'] = np.where(df['Velocity'] < 1510, 'Water',\n",
    "                           np.where(df['Velocity'] > 4700, 'Oceanic Crust', 'Sediment'))\n",
    "df.head()"
   ]
  },
  {
   "cell_type": "markdown",
   "metadata": {},
   "source": [
    "I've added the material section, and now I'll checking to make sure I accurately catagorized the data (in a very translucent way, I'm sure there's a better way to do this). Green is crust, blue is ocean, and orange is the incoming sediment and subducting/accreting sediment. "
   ]
  },
  {
   "cell_type": "code",
   "execution_count": 14,
   "metadata": {},
   "outputs": [
    {
     "data": {
      "image/png": "[encoded data removed]",
      "text/plain": [
       "<Figure size 432x288 with 1 Axes>"
      ]
     },
     "metadata": {
      "needs_background": "light"
     },
     "output_type": "display_data"
    }
   ],
   "source": [
    "sns.scatterplot(df['CDP'],df['Depth'],hue=df['Material'], legend = False, size=df['Material'])\n",
    "plt.ylim(0,8000)\n",
    "plt.gca().invert_yaxis()\n",
    "plt.xlabel('CDP number')\n",
    "plt.ylabel('Depth (meters below sea level)')\n",
    "plt.show()"
   ]
  },
  {
   "cell_type": "markdown",
   "metadata": {},
   "source": [
    "I now need to match the depths of the porosity values to the velocity values. My velocity is sampled every 5 meters, so I'm going to round porosity to the nearest 5. I can't just match them directly because porosity data was more sparsely and randomly sampled. This means there might be depth values with multiple porosity values -- this will translate to the same velocity values mapping to certain porosities. This just adds noise to the data"
   ]
  },
  {
   "cell_type": "code",
   "execution_count": 15,
   "metadata": {
    "scrolled": true
   },
   "outputs": [
    {
     "data": {
      "text/html": [
       "<div>\n",
       "<style scoped>\n",
       "    .dataframe tbody tr th:only-of-type {\n",
       "        vertical-align: middle;\n",
       "    }\n",
       "\n",
       "    .dataframe tbody tr th {\n",
       "        vertical-align: top;\n",
       "    }\n",
       "\n",
       "    .dataframe thead th {\n",
       "        text-align: right;\n",
       "    }\n",
       "</style>\n",
       "<table border=\"1\" class=\"dataframe\">\n",
       "  <thead>\n",
       "    <tr style=\"text-align: right;\">\n",
       "      <th></th>\n",
       "      <th>Depth (mbsf)</th>\n",
       "      <th>PO (%)</th>\n",
       "      <th>Depth_r5</th>\n",
       "    </tr>\n",
       "  </thead>\n",
       "  <tbody>\n",
       "    <tr>\n",
       "      <th>0</th>\n",
       "      <td>0.74</td>\n",
       "      <td>75.1</td>\n",
       "      <td>0.0</td>\n",
       "    </tr>\n",
       "    <tr>\n",
       "      <th>1</th>\n",
       "      <td>2.25</td>\n",
       "      <td>68.0</td>\n",
       "      <td>0.0</td>\n",
       "    </tr>\n",
       "    <tr>\n",
       "      <th>2</th>\n",
       "      <td>3.75</td>\n",
       "      <td>68.1</td>\n",
       "      <td>5.0</td>\n",
       "    </tr>\n",
       "    <tr>\n",
       "      <th>3</th>\n",
       "      <td>5.26</td>\n",
       "      <td>53.9</td>\n",
       "      <td>5.0</td>\n",
       "    </tr>\n",
       "    <tr>\n",
       "      <th>4</th>\n",
       "      <td>6.76</td>\n",
       "      <td>66.3</td>\n",
       "      <td>5.0</td>\n",
       "    </tr>\n",
       "    <tr>\n",
       "      <th>5</th>\n",
       "      <td>8.26</td>\n",
       "      <td>66.7</td>\n",
       "      <td>10.0</td>\n",
       "    </tr>\n",
       "    <tr>\n",
       "      <th>6</th>\n",
       "      <td>19.24</td>\n",
       "      <td>59.3</td>\n",
       "      <td>20.0</td>\n",
       "    </tr>\n",
       "    <tr>\n",
       "      <th>7</th>\n",
       "      <td>20.73</td>\n",
       "      <td>58.1</td>\n",
       "      <td>20.0</td>\n",
       "    </tr>\n",
       "  </tbody>\n",
       "</table>\n",
       "</div>"
      ],
      "text/plain": [
       "   Depth (mbsf)  PO (%)  Depth_r5\n",
       "0          0.74    75.1       0.0\n",
       "1          2.25    68.0       0.0\n",
       "2          3.75    68.1       5.0\n",
       "3          5.26    53.9       5.0\n",
       "4          6.76    66.3       5.0\n",
       "5          8.26    66.7      10.0\n",
       "6         19.24    59.3      20.0\n",
       "7         20.73    58.1      20.0"
      ]
     },
     "execution_count": 15,
     "metadata": {},
     "output_type": "execute_result"
    }
   ],
   "source": [
    "import warnings \n",
    "warnings.filterwarnings('ignore')\n",
    "pordata['Depth_r5'] = baseround(pordata['Depth (mbsf)'],base = 5)\n",
    "pordata.head(8)"
   ]
  },
  {
   "cell_type": "markdown",
   "metadata": {},
   "source": [
    "Adding the random variables also added some negative terms for porosity, which is not possible. I'm going to truncate values at 0.3% porosity."
   ]
  },
  {
   "cell_type": "code",
   "execution_count": 16,
   "metadata": {},
   "outputs": [
    {
     "data": {
      "text/html": [
       "<div>\n",
       "<style scoped>\n",
       "    .dataframe tbody tr th:only-of-type {\n",
       "        vertical-align: middle;\n",
       "    }\n",
       "\n",
       "    .dataframe tbody tr th {\n",
       "        vertical-align: top;\n",
       "    }\n",
       "\n",
       "    .dataframe thead th {\n",
       "        text-align: right;\n",
       "    }\n",
       "</style>\n",
       "<table border=\"1\" class=\"dataframe\">\n",
       "  <thead>\n",
       "    <tr style=\"text-align: right;\">\n",
       "      <th></th>\n",
       "      <th>Depth (mbsf)</th>\n",
       "      <th>PO (%)</th>\n",
       "      <th>Depth_r5</th>\n",
       "    </tr>\n",
       "  </thead>\n",
       "  <tbody>\n",
       "    <tr>\n",
       "      <th>0</th>\n",
       "      <td>0.740000</td>\n",
       "      <td>75.100000</td>\n",
       "      <td>0.0</td>\n",
       "    </tr>\n",
       "    <tr>\n",
       "      <th>1</th>\n",
       "      <td>2.250000</td>\n",
       "      <td>68.000000</td>\n",
       "      <td>0.0</td>\n",
       "    </tr>\n",
       "    <tr>\n",
       "      <th>2</th>\n",
       "      <td>3.750000</td>\n",
       "      <td>68.100000</td>\n",
       "      <td>5.0</td>\n",
       "    </tr>\n",
       "    <tr>\n",
       "      <th>3</th>\n",
       "      <td>5.260000</td>\n",
       "      <td>53.900000</td>\n",
       "      <td>5.0</td>\n",
       "    </tr>\n",
       "    <tr>\n",
       "      <th>4</th>\n",
       "      <td>6.760000</td>\n",
       "      <td>66.300000</td>\n",
       "      <td>5.0</td>\n",
       "    </tr>\n",
       "    <tr>\n",
       "      <th>...</th>\n",
       "      <td>...</td>\n",
       "      <td>...</td>\n",
       "      <td>...</td>\n",
       "    </tr>\n",
       "    <tr>\n",
       "      <th>995</th>\n",
       "      <td>4523.564238</td>\n",
       "      <td>4.896677</td>\n",
       "      <td>4525.0</td>\n",
       "    </tr>\n",
       "    <tr>\n",
       "      <th>996</th>\n",
       "      <td>4483.981762</td>\n",
       "      <td>1.326498</td>\n",
       "      <td>4485.0</td>\n",
       "    </tr>\n",
       "    <tr>\n",
       "      <th>997</th>\n",
       "      <td>4495.580479</td>\n",
       "      <td>0.300000</td>\n",
       "      <td>4495.0</td>\n",
       "    </tr>\n",
       "    <tr>\n",
       "      <th>998</th>\n",
       "      <td>4511.331171</td>\n",
       "      <td>0.300000</td>\n",
       "      <td>4510.0</td>\n",
       "    </tr>\n",
       "    <tr>\n",
       "      <th>999</th>\n",
       "      <td>4407.142734</td>\n",
       "      <td>0.300000</td>\n",
       "      <td>4405.0</td>\n",
       "    </tr>\n",
       "  </tbody>\n",
       "</table>\n",
       "<p>1000 rows × 3 columns</p>\n",
       "</div>"
      ],
      "text/plain": [
       "     Depth (mbsf)     PO (%)  Depth_r5\n",
       "0        0.740000  75.100000       0.0\n",
       "1        2.250000  68.000000       0.0\n",
       "2        3.750000  68.100000       5.0\n",
       "3        5.260000  53.900000       5.0\n",
       "4        6.760000  66.300000       5.0\n",
       "..            ...        ...       ...\n",
       "995   4523.564238   4.896677    4525.0\n",
       "996   4483.981762   1.326498    4485.0\n",
       "997   4495.580479   0.300000    4495.0\n",
       "998   4511.331171   0.300000    4510.0\n",
       "999   4407.142734   0.300000    4405.0\n",
       "\n",
       "[1000 rows x 3 columns]"
      ]
     },
     "execution_count": 16,
     "metadata": {},
     "output_type": "execute_result"
    }
   ],
   "source": [
    "pordata['PO (%)'] = np.where(pordata['PO (%)']>0.29, pordata['PO (%)'], 0.3) # conditional statement assign a new feature\n",
    "pordata.head(1000)"
   ]
  },
  {
   "cell_type": "markdown",
   "metadata": {},
   "source": [
    "I'll now visualize the porosity vs depth profile again to QC"
   ]
  },
  {
   "cell_type": "code",
   "execution_count": 17,
   "metadata": {
    "scrolled": true
   },
   "outputs": [
    {
     "data": {
      "image/png": "[encoded data removed]",
      "text/plain": [
       "<Figure size 432x288 with 1 Axes>"
      ]
     },
     "metadata": {
      "needs_background": "light"
     },
     "output_type": "display_data"
    }
   ],
   "source": [
    "plt.scatter(pordata['PO (%)'], pordata['Depth_r5'],marker='.')\n",
    "plt.gca().invert_yaxis()\n",
    "plt.xlabel('Porosity (%)')\n",
    "plt.ylabel('Depth (meters below seafloor)')\n",
    "plt.show()"
   ]
  },
  {
   "cell_type": "markdown",
   "metadata": {},
   "source": [
    "I'm using CDP 16500 to match my porosity and velocity data, this is the deepest sediment point I have. I will now need to assign a velocity value to every depth that has a porosity value. I do that in the code below. The porosity values are shifted to match seafloor depths at CDP 16500. I'm getting the seafloor depth at 16500 so I can add it to the porosity data depths to match the seismic"
   ]
  },
  {
   "cell_type": "code",
   "execution_count": 18,
   "metadata": {
    "scrolled": true
   },
   "outputs": [
    {
     "data": {
      "text/html": [
       "<div>\n",
       "<style scoped>\n",
       "    .dataframe tbody tr th:only-of-type {\n",
       "        vertical-align: middle;\n",
       "    }\n",
       "\n",
       "    .dataframe tbody tr th {\n",
       "        vertical-align: top;\n",
       "    }\n",
       "\n",
       "    .dataframe thead th {\n",
       "        text-align: right;\n",
       "    }\n",
       "</style>\n",
       "<table border=\"1\" class=\"dataframe\">\n",
       "  <thead>\n",
       "    <tr style=\"text-align: right;\">\n",
       "      <th></th>\n",
       "      <th>Line</th>\n",
       "      <th>CDP</th>\n",
       "      <th>Depth</th>\n",
       "    </tr>\n",
       "  </thead>\n",
       "  <tbody>\n",
       "    <tr>\n",
       "      <th>6756</th>\n",
       "      <td>28</td>\n",
       "      <td>16500.0</td>\n",
       "      <td>3105.68</td>\n",
       "    </tr>\n",
       "  </tbody>\n",
       "</table>\n",
       "</div>"
      ],
      "text/plain": [
       "      Line      CDP    Depth\n",
       "6756    28  16500.0  3105.68"
      ]
     },
     "execution_count": 18,
     "metadata": {},
     "output_type": "execute_result"
    }
   ],
   "source": [
    "SF28 = SF[SF[\"CDP\"] == 16500]\n",
    "SF28"
   ]
  },
  {
   "cell_type": "markdown",
   "metadata": {},
   "source": [
    "I am also getting the row index at CDP 16500. This is so I can itialize the count in the loop below at this count to map through all depth values at CDP 16500."
   ]
  },
  {
   "cell_type": "code",
   "execution_count": 19,
   "metadata": {},
   "outputs": [
    {
     "data": {
      "text/html": [
       "<div>\n",
       "<style scoped>\n",
       "    .dataframe tbody tr th:only-of-type {\n",
       "        vertical-align: middle;\n",
       "    }\n",
       "\n",
       "    .dataframe tbody tr th {\n",
       "        vertical-align: top;\n",
       "    }\n",
       "\n",
       "    .dataframe thead th {\n",
       "        text-align: right;\n",
       "    }\n",
       "</style>\n",
       "<table border=\"1\" class=\"dataframe\">\n",
       "  <thead>\n",
       "    <tr style=\"text-align: right;\">\n",
       "      <th></th>\n",
       "      <th>Line</th>\n",
       "      <th>CDP</th>\n",
       "      <th>Depth</th>\n",
       "      <th>Velocity</th>\n",
       "      <th>Material</th>\n",
       "    </tr>\n",
       "  </thead>\n",
       "  <tbody>\n",
       "    <tr>\n",
       "      <th>150074</th>\n",
       "      <td>28</td>\n",
       "      <td>16500</td>\n",
       "      <td>0</td>\n",
       "      <td>1499</td>\n",
       "      <td>Water</td>\n",
       "    </tr>\n",
       "    <tr>\n",
       "      <th>150075</th>\n",
       "      <td>28</td>\n",
       "      <td>16500</td>\n",
       "      <td>5</td>\n",
       "      <td>1499</td>\n",
       "      <td>Water</td>\n",
       "    </tr>\n",
       "    <tr>\n",
       "      <th>150076</th>\n",
       "      <td>28</td>\n",
       "      <td>16500</td>\n",
       "      <td>10</td>\n",
       "      <td>1499</td>\n",
       "      <td>Water</td>\n",
       "    </tr>\n",
       "    <tr>\n",
       "      <th>150077</th>\n",
       "      <td>28</td>\n",
       "      <td>16500</td>\n",
       "      <td>15</td>\n",
       "      <td>1499</td>\n",
       "      <td>Water</td>\n",
       "    </tr>\n",
       "    <tr>\n",
       "      <th>150078</th>\n",
       "      <td>28</td>\n",
       "      <td>16500</td>\n",
       "      <td>20</td>\n",
       "      <td>1499</td>\n",
       "      <td>Water</td>\n",
       "    </tr>\n",
       "    <tr>\n",
       "      <th>...</th>\n",
       "      <td>...</td>\n",
       "      <td>...</td>\n",
       "      <td>...</td>\n",
       "      <td>...</td>\n",
       "      <td>...</td>\n",
       "    </tr>\n",
       "    <tr>\n",
       "      <th>152070</th>\n",
       "      <td>28</td>\n",
       "      <td>16500</td>\n",
       "      <td>9980</td>\n",
       "      <td>6000</td>\n",
       "      <td>Oceanic Crust</td>\n",
       "    </tr>\n",
       "    <tr>\n",
       "      <th>152071</th>\n",
       "      <td>28</td>\n",
       "      <td>16500</td>\n",
       "      <td>9985</td>\n",
       "      <td>6000</td>\n",
       "      <td>Oceanic Crust</td>\n",
       "    </tr>\n",
       "    <tr>\n",
       "      <th>152072</th>\n",
       "      <td>28</td>\n",
       "      <td>16500</td>\n",
       "      <td>9990</td>\n",
       "      <td>6000</td>\n",
       "      <td>Oceanic Crust</td>\n",
       "    </tr>\n",
       "    <tr>\n",
       "      <th>152073</th>\n",
       "      <td>28</td>\n",
       "      <td>16500</td>\n",
       "      <td>9995</td>\n",
       "      <td>6000</td>\n",
       "      <td>Oceanic Crust</td>\n",
       "    </tr>\n",
       "    <tr>\n",
       "      <th>152074</th>\n",
       "      <td>28</td>\n",
       "      <td>16500</td>\n",
       "      <td>10000</td>\n",
       "      <td>6000</td>\n",
       "      <td>Oceanic Crust</td>\n",
       "    </tr>\n",
       "  </tbody>\n",
       "</table>\n",
       "<p>2001 rows × 5 columns</p>\n",
       "</div>"
      ],
      "text/plain": [
       "        Line    CDP  Depth  Velocity       Material\n",
       "150074    28  16500      0      1499          Water\n",
       "150075    28  16500      5      1499          Water\n",
       "150076    28  16500     10      1499          Water\n",
       "150077    28  16500     15      1499          Water\n",
       "150078    28  16500     20      1499          Water\n",
       "...      ...    ...    ...       ...            ...\n",
       "152070    28  16500   9980      6000  Oceanic Crust\n",
       "152071    28  16500   9985      6000  Oceanic Crust\n",
       "152072    28  16500   9990      6000  Oceanic Crust\n",
       "152073    28  16500   9995      6000  Oceanic Crust\n",
       "152074    28  16500  10000      6000  Oceanic Crust\n",
       "\n",
       "[2001 rows x 5 columns]"
      ]
     },
     "execution_count": 19,
     "metadata": {},
     "output_type": "execute_result"
    }
   ],
   "source": [
    "df16500 = df[df[\"CDP\"] == 16500]\n",
    "df16500"
   ]
  },
  {
   "cell_type": "markdown",
   "metadata": {},
   "source": [
    "Now I'm going to map velocity values (from location cdp = 16500) to each depth value in the porosity dataset. This is used so I can train the data at this location then apply it to the entire seismic velocity section.\n",
    "\n",
    "To do this, I am looping through each depth value of the porosity data, and trying to match depth value of the velocity data to this. I take the velocity value at that depth and add it to a list so I can directly map porosity to velocity data. I have an error in place that will come up if I miss some points or somehow add additional points."
   ]
  },
  {
   "cell_type": "code",
   "execution_count": 20,
   "metadata": {},
   "outputs": [],
   "source": [
    "sf28 = SF28.at[6756,'Depth'] - 100    #the seafloor at the location of CDP 16500. After some QC'ing, it seems my pick\n",
    "#is off by ~100 m, so I'm shifting it here\n",
    "df16500_val = 150074\n",
    "\n",
    "\n",
    "porvels = []\n",
    "count = df16500_val;   #the first instance of CDP 16500\n",
    "for d1 in pordata['Depth_r5']:\n",
    "    dr = d1 + baseround(sf28,5)\n",
    "    for d2 in df16500['Depth']:\n",
    "        if dr == d2:\n",
    "            vel = df16500.at[count,'Velocity']\n",
    "            porvels.append(vel)\n",
    "        count = count + 1\n",
    "    count = df16500_val\n",
    "\n",
    "#making sure my I mapped a velocity value to every depth with a porosity reading\n",
    "if len(porvels) != len(pordata):\n",
    "    print('points were dropped')\n"
   ]
  },
  {
   "cell_type": "markdown",
   "metadata": {},
   "source": [
    "Now adding that velocity vector to the porosity dataframe so I can directly relate porosity to velocity"
   ]
  },
  {
   "cell_type": "code",
   "execution_count": 21,
   "metadata": {
    "scrolled": false
   },
   "outputs": [
    {
     "data": {
      "text/html": [
       "<div>\n",
       "<style scoped>\n",
       "    .dataframe tbody tr th:only-of-type {\n",
       "        vertical-align: middle;\n",
       "    }\n",
       "\n",
       "    .dataframe tbody tr th {\n",
       "        vertical-align: top;\n",
       "    }\n",
       "\n",
       "    .dataframe thead th {\n",
       "        text-align: right;\n",
       "    }\n",
       "</style>\n",
       "<table border=\"1\" class=\"dataframe\">\n",
       "  <thead>\n",
       "    <tr style=\"text-align: right;\">\n",
       "      <th></th>\n",
       "      <th>Depth (mbsf)</th>\n",
       "      <th>PO (%)</th>\n",
       "      <th>Depth_r5</th>\n",
       "      <th>Velocity</th>\n",
       "    </tr>\n",
       "  </thead>\n",
       "  <tbody>\n",
       "    <tr>\n",
       "      <th>0</th>\n",
       "      <td>0.74</td>\n",
       "      <td>75.1</td>\n",
       "      <td>0.0</td>\n",
       "      <td>1521</td>\n",
       "    </tr>\n",
       "    <tr>\n",
       "      <th>1</th>\n",
       "      <td>2.25</td>\n",
       "      <td>68.0</td>\n",
       "      <td>0.0</td>\n",
       "      <td>1521</td>\n",
       "    </tr>\n",
       "    <tr>\n",
       "      <th>2</th>\n",
       "      <td>3.75</td>\n",
       "      <td>68.1</td>\n",
       "      <td>5.0</td>\n",
       "      <td>1526</td>\n",
       "    </tr>\n",
       "    <tr>\n",
       "      <th>3</th>\n",
       "      <td>5.26</td>\n",
       "      <td>53.9</td>\n",
       "      <td>5.0</td>\n",
       "      <td>1526</td>\n",
       "    </tr>\n",
       "    <tr>\n",
       "      <th>4</th>\n",
       "      <td>6.76</td>\n",
       "      <td>66.3</td>\n",
       "      <td>5.0</td>\n",
       "      <td>1526</td>\n",
       "    </tr>\n",
       "    <tr>\n",
       "      <th>5</th>\n",
       "      <td>8.26</td>\n",
       "      <td>66.7</td>\n",
       "      <td>10.0</td>\n",
       "      <td>1532</td>\n",
       "    </tr>\n",
       "    <tr>\n",
       "      <th>6</th>\n",
       "      <td>19.24</td>\n",
       "      <td>59.3</td>\n",
       "      <td>20.0</td>\n",
       "      <td>1545</td>\n",
       "    </tr>\n",
       "    <tr>\n",
       "      <th>7</th>\n",
       "      <td>20.73</td>\n",
       "      <td>58.1</td>\n",
       "      <td>20.0</td>\n",
       "      <td>1545</td>\n",
       "    </tr>\n",
       "    <tr>\n",
       "      <th>8</th>\n",
       "      <td>22.24</td>\n",
       "      <td>53.0</td>\n",
       "      <td>20.0</td>\n",
       "      <td>1545</td>\n",
       "    </tr>\n",
       "    <tr>\n",
       "      <th>9</th>\n",
       "      <td>23.75</td>\n",
       "      <td>58.1</td>\n",
       "      <td>25.0</td>\n",
       "      <td>1552</td>\n",
       "    </tr>\n",
       "    <tr>\n",
       "      <th>10</th>\n",
       "      <td>25.25</td>\n",
       "      <td>52.1</td>\n",
       "      <td>25.0</td>\n",
       "      <td>1552</td>\n",
       "    </tr>\n",
       "    <tr>\n",
       "      <th>11</th>\n",
       "      <td>26.75</td>\n",
       "      <td>59.8</td>\n",
       "      <td>25.0</td>\n",
       "      <td>1552</td>\n",
       "    </tr>\n",
       "    <tr>\n",
       "      <th>12</th>\n",
       "      <td>27.72</td>\n",
       "      <td>55.7</td>\n",
       "      <td>30.0</td>\n",
       "      <td>1561</td>\n",
       "    </tr>\n",
       "    <tr>\n",
       "      <th>13</th>\n",
       "      <td>27.74</td>\n",
       "      <td>56.6</td>\n",
       "      <td>30.0</td>\n",
       "      <td>1561</td>\n",
       "    </tr>\n",
       "    <tr>\n",
       "      <th>14</th>\n",
       "      <td>29.25</td>\n",
       "      <td>52.6</td>\n",
       "      <td>30.0</td>\n",
       "      <td>1561</td>\n",
       "    </tr>\n",
       "  </tbody>\n",
       "</table>\n",
       "</div>"
      ],
      "text/plain": [
       "    Depth (mbsf)  PO (%)  Depth_r5  Velocity\n",
       "0           0.74    75.1       0.0      1521\n",
       "1           2.25    68.0       0.0      1521\n",
       "2           3.75    68.1       5.0      1526\n",
       "3           5.26    53.9       5.0      1526\n",
       "4           6.76    66.3       5.0      1526\n",
       "5           8.26    66.7      10.0      1532\n",
       "6          19.24    59.3      20.0      1545\n",
       "7          20.73    58.1      20.0      1545\n",
       "8          22.24    53.0      20.0      1545\n",
       "9          23.75    58.1      25.0      1552\n",
       "10         25.25    52.1      25.0      1552\n",
       "11         26.75    59.8      25.0      1552\n",
       "12         27.72    55.7      30.0      1561\n",
       "13         27.74    56.6      30.0      1561\n",
       "14         29.25    52.6      30.0      1561"
      ]
     },
     "execution_count": 21,
     "metadata": {},
     "output_type": "execute_result"
    }
   ],
   "source": [
    "pordata['Velocity'] = porvels\n",
    "pordata.head(15)"
   ]
  },
  {
   "cell_type": "markdown",
   "metadata": {},
   "source": [
    "These values make sense - high porosity sediment will have p-wave velocities dominated by water velocity, and will decrease as porosity increases."
   ]
  },
  {
   "cell_type": "code",
   "execution_count": 22,
   "metadata": {},
   "outputs": [
    {
     "data": {
      "image/png": "[encoded data removed]",
      "text/plain": [
       "<Figure size 432x288 with 1 Axes>"
      ]
     },
     "metadata": {
      "needs_background": "light"
     },
     "output_type": "display_data"
    }
   ],
   "source": [
    "plt.scatter(pordata['PO (%)'],pordata['Velocity'], marker = '.')\n",
    "#plt.gca().invert_yaxis()\n",
    "plt.ylabel('Velocity (m/s)')\n",
    "plt.xlabel('Porosity (%)')\n",
    "plt.show()"
   ]
  },
  {
   "cell_type": "markdown",
   "metadata": {},
   "source": [
    "Taking a look at it -- it doesn't look super smooth, but for the values I have, this is pretty expected. Here's an example where someone has looked at a velocity-porosity relationship for sediments in the Cascadia trench, and various porosity-velocity relationships, and it looks similar. The relationship is a bit messy, and there is not one velocity value for each porosity value, and vice versa. This is also observed in nature -- the velocity, porosity relationship has a general trend, but is overall quite complex, with variations due to lithology, pore structure, anisotropy, consolidation history, etc. For more information, see: Erickson, S. N., & Jarrard, R. D. (1998). Velocity‐porosity relationships for water‐saturated siliciclastic sediments. Journal of Geophysical Research: Solid Earth, 103(B12), 30385-30406.\n",
    "<img src=\"vel_por_relat.png\" width=\"400\">\n",
    "<center>Han et al., 2017</center>\n",
    "\n",
    "This figure also shows us that while empirical relationships exist between porosity and velocity, there is not one, set relationship.\n"
   ]
  },
  {
   "cell_type": "markdown",
   "metadata": {},
   "source": [
    "## Machine Learning\n",
    "Now I'm going to make the prediction models. First I need to split the data to train/test, so I can evaluate how the model is performing."
   ]
  },
  {
   "cell_type": "code",
   "execution_count": 23,
   "metadata": {
    "scrolled": true
   },
   "outputs": [
    {
     "data": {
      "text/html": [
       "<div>\n",
       "<style scoped>\n",
       "    .dataframe tbody tr th:only-of-type {\n",
       "        vertical-align: middle;\n",
       "    }\n",
       "\n",
       "    .dataframe tbody tr th {\n",
       "        vertical-align: top;\n",
       "    }\n",
       "\n",
       "    .dataframe thead th {\n",
       "        text-align: right;\n",
       "    }\n",
       "</style>\n",
       "<table border=\"1\" class=\"dataframe\">\n",
       "  <thead>\n",
       "    <tr style=\"text-align: right;\">\n",
       "      <th></th>\n",
       "      <th>Velocity</th>\n",
       "    </tr>\n",
       "  </thead>\n",
       "  <tbody>\n",
       "    <tr>\n",
       "      <th>0</th>\n",
       "      <td>4573</td>\n",
       "    </tr>\n",
       "    <tr>\n",
       "      <th>1</th>\n",
       "      <td>2509</td>\n",
       "    </tr>\n",
       "    <tr>\n",
       "      <th>2</th>\n",
       "      <td>2648</td>\n",
       "    </tr>\n",
       "    <tr>\n",
       "      <th>3</th>\n",
       "      <td>3262</td>\n",
       "    </tr>\n",
       "    <tr>\n",
       "      <th>4</th>\n",
       "      <td>4746</td>\n",
       "    </tr>\n",
       "  </tbody>\n",
       "</table>\n",
       "</div>"
      ],
      "text/plain": [
       "   Velocity\n",
       "0      4573\n",
       "1      2509\n",
       "2      2648\n",
       "3      3262\n",
       "4      4746"
      ]
     },
     "execution_count": 23,
     "metadata": {},
     "output_type": "execute_result"
    }
   ],
   "source": [
    "X_train, X_test, y_train, y_test = train_test_split(pordata['Velocity'], pordata['PO (%)'], test_size=0.20, random_state=594170)\n",
    "y_train = pd.DataFrame({'Porosity':y_train.values})\n",
    "y_test = pd.DataFrame({'Porosity':y_test.values})\n",
    "X_train = pd.DataFrame({'Velocity':X_train.values})\n",
    "X_test = pd.DataFrame({'Velocity':X_test.values})\n",
    "X_train.head()"
   ]
  },
  {
   "cell_type": "markdown",
   "metadata": {},
   "source": [
    "Erickson and Jarrard (1998) come up with a velocity-porosity relationship empirically:\n",
    "#### Vp = 3.0-4.21$\\phi$\t + 3.07$\\phi$$^2$\t\t\n",
    "\n",
    "So I could try to come up with a model that predicts in the form of:\n",
    "#### $\\phi$ = $-b \\pm \\sqrt{b^2 - 4acVp} \\over 2a$\n",
    "\n",
    "But I could also use Decision Tree methods -- these easily and quickly catagorize the data, which is nice because we have 120,000 velocity datapoints to map to porosity. See introduction for more information on decision trees."
   ]
  },
  {
   "cell_type": "markdown",
   "metadata": {},
   "source": [
    "For each case, I'm going to build the model with the training data, then apply it to the testing data, then add the predicted results to the actual testing values and evaluate the correlation."
   ]
  },
  {
   "cell_type": "code",
   "execution_count": 24,
   "metadata": {
    "scrolled": true
   },
   "outputs": [
    {
     "data": {
      "text/html": [
       "<div>\n",
       "<style scoped>\n",
       "    .dataframe tbody tr th:only-of-type {\n",
       "        vertical-align: middle;\n",
       "    }\n",
       "\n",
       "    .dataframe tbody tr th {\n",
       "        vertical-align: top;\n",
       "    }\n",
       "\n",
       "    .dataframe thead th {\n",
       "        text-align: right;\n",
       "    }\n",
       "</style>\n",
       "<table border=\"1\" class=\"dataframe\">\n",
       "  <thead>\n",
       "    <tr style=\"text-align: right;\">\n",
       "      <th></th>\n",
       "      <th>Porosity</th>\n",
       "      <th>DTree</th>\n",
       "    </tr>\n",
       "  </thead>\n",
       "  <tbody>\n",
       "    <tr>\n",
       "      <th>Porosity</th>\n",
       "      <td>1.000000</td>\n",
       "      <td>0.966716</td>\n",
       "    </tr>\n",
       "    <tr>\n",
       "      <th>DTree</th>\n",
       "      <td>0.966716</td>\n",
       "      <td>1.000000</td>\n",
       "    </tr>\n",
       "  </tbody>\n",
       "</table>\n",
       "</div>"
      ],
      "text/plain": [
       "          Porosity     DTree\n",
       "Porosity  1.000000  0.966716\n",
       "DTree     0.966716  1.000000"
      ]
     },
     "execution_count": 24,
     "metadata": {},
     "output_type": "execute_result"
    }
   ],
   "source": [
    "dtree = DecisionTreeRegressor().fit(X_train,y_train)\n",
    "preds = dtree.predict(X_test)\n",
    "y_test['DTree'] = preds\n",
    "y_test.corr() "
   ]
  },
  {
   "cell_type": "markdown",
   "metadata": {},
   "source": [
    "This is already a very good correlation. We can visualize it as well."
   ]
  },
  {
   "cell_type": "code",
   "execution_count": 25,
   "metadata": {},
   "outputs": [
    {
     "data": {
      "image/png": "[encoded data removed]",
      "text/plain": [
       "<Figure size 432x288 with 1 Axes>"
      ]
     },
     "metadata": {
      "needs_background": "light"
     },
     "output_type": "display_data"
    }
   ],
   "source": [
    "plt.subplot(111)\n",
    "x = np.linspace(start = np.min(y_test['Porosity']),stop = np.max(y_test['Porosity']), num = 1000)\n",
    "y = x\n",
    "sns.scatterplot(y_test['DTree'],y_test['Porosity'], color = 'red',label='Decision Tree')\n",
    "plt.plot(x,y,color='black', label = '1:1 Line')\n",
    "plt.legend()\n",
    "plt.show()"
   ]
  },
  {
   "cell_type": "markdown",
   "metadata": {},
   "source": [
    "Looks good. We're now going to try random forest. Summarized from Wikipedia: \"Random forests are an ensemble learning method for regression that operates by constructing a multitude of decision trees at training time and outputting the class that is the mode of the mean prediction of the individual trees. Random decision forests correct for decision trees' habit of overfitting to their training set.\"\n",
    "\n",
    "I'm not going to prescribe any of the parameters at this point -- we'll do that at the next step."
   ]
  },
  {
   "cell_type": "code",
   "execution_count": 26,
   "metadata": {
    "scrolled": true
   },
   "outputs": [
    {
     "data": {
      "text/html": [
       "<div>\n",
       "<style scoped>\n",
       "    .dataframe tbody tr th:only-of-type {\n",
       "        vertical-align: middle;\n",
       "    }\n",
       "\n",
       "    .dataframe tbody tr th {\n",
       "        vertical-align: top;\n",
       "    }\n",
       "\n",
       "    .dataframe thead th {\n",
       "        text-align: right;\n",
       "    }\n",
       "</style>\n",
       "<table border=\"1\" class=\"dataframe\">\n",
       "  <thead>\n",
       "    <tr style=\"text-align: right;\">\n",
       "      <th></th>\n",
       "      <th>Porosity</th>\n",
       "      <th>DTree</th>\n",
       "      <th>Forest</th>\n",
       "    </tr>\n",
       "  </thead>\n",
       "  <tbody>\n",
       "    <tr>\n",
       "      <th>Porosity</th>\n",
       "      <td>1.000000</td>\n",
       "      <td>0.966716</td>\n",
       "      <td>0.972600</td>\n",
       "    </tr>\n",
       "    <tr>\n",
       "      <th>DTree</th>\n",
       "      <td>0.966716</td>\n",
       "      <td>1.000000</td>\n",
       "      <td>0.995916</td>\n",
       "    </tr>\n",
       "    <tr>\n",
       "      <th>Forest</th>\n",
       "      <td>0.972600</td>\n",
       "      <td>0.995916</td>\n",
       "      <td>1.000000</td>\n",
       "    </tr>\n",
       "  </tbody>\n",
       "</table>\n",
       "</div>"
      ],
      "text/plain": [
       "          Porosity     DTree    Forest\n",
       "Porosity  1.000000  0.966716  0.972600\n",
       "DTree     0.966716  1.000000  0.995916\n",
       "Forest    0.972600  0.995916  1.000000"
      ]
     },
     "execution_count": 26,
     "metadata": {},
     "output_type": "execute_result"
    }
   ],
   "source": [
    "import warnings \n",
    "warnings.filterwarnings('ignore')\n",
    "\n",
    "forest = RandomForestRegressor()\n",
    "forest.fit(X_train,y_train)\n",
    "forest_preds = forest.predict(X_test)\n",
    "y_test['Forest'] = forest_preds\n",
    "y_test.corr()"
   ]
  },
  {
   "cell_type": "markdown",
   "metadata": {},
   "source": [
    "Again, a very good correlation. Could it be improved though? I'm now going to use a grid search package to optimize the values for max depth and minimum samples to split and then will predict with this. In this way, I don't need to guess which parameter values will perform best. What this package does is makes a number of models with the prescribed hyperparameters, and evaluate what best reduces model variance and model bias. More information can be found here: https://scikit-learn.org/stable/modules/generated/sklearn.model_selection.GridSearchCV.html"
   ]
  },
  {
   "cell_type": "code",
   "execution_count": 27,
   "metadata": {
    "scrolled": false
   },
   "outputs": [],
   "source": [
    "import warnings \n",
    "warnings.filterwarnings('ignore')\n",
    "\n",
    "parameters = {'max_depth':np.linspace(1,20,20),'min_samples_split': [2,3,4,5,6,7,8,9,10,11,12,13,14,15]}\n",
    "clf = GridSearchCV(forest, parameters)\n",
    "clf.fit(X_train,y_train)\n",
    "#clf.cv_results_\n",
    "clf_pred = clf.predict(X_test)\n",
    "y_test['Tuned HP'] = clf_pred"
   ]
  },
  {
   "cell_type": "markdown",
   "metadata": {},
   "source": [
    "This should now have optimized the max depth and min samples to split. We can compare this correlation to the other models."
   ]
  },
  {
   "cell_type": "code",
   "execution_count": 28,
   "metadata": {},
   "outputs": [
    {
     "data": {
      "text/html": [
       "<div>\n",
       "<style scoped>\n",
       "    .dataframe tbody tr th:only-of-type {\n",
       "        vertical-align: middle;\n",
       "    }\n",
       "\n",
       "    .dataframe tbody tr th {\n",
       "        vertical-align: top;\n",
       "    }\n",
       "\n",
       "    .dataframe thead th {\n",
       "        text-align: right;\n",
       "    }\n",
       "</style>\n",
       "<table border=\"1\" class=\"dataframe\">\n",
       "  <thead>\n",
       "    <tr style=\"text-align: right;\">\n",
       "      <th></th>\n",
       "      <th>Porosity</th>\n",
       "      <th>DTree</th>\n",
       "      <th>Forest</th>\n",
       "      <th>Tuned HP</th>\n",
       "    </tr>\n",
       "  </thead>\n",
       "  <tbody>\n",
       "    <tr>\n",
       "      <th>Porosity</th>\n",
       "      <td>1.000000</td>\n",
       "      <td>0.966716</td>\n",
       "      <td>0.972600</td>\n",
       "      <td>0.975612</td>\n",
       "    </tr>\n",
       "    <tr>\n",
       "      <th>DTree</th>\n",
       "      <td>0.966716</td>\n",
       "      <td>1.000000</td>\n",
       "      <td>0.995916</td>\n",
       "      <td>0.987792</td>\n",
       "    </tr>\n",
       "    <tr>\n",
       "      <th>Forest</th>\n",
       "      <td>0.972600</td>\n",
       "      <td>0.995916</td>\n",
       "      <td>1.000000</td>\n",
       "      <td>0.993570</td>\n",
       "    </tr>\n",
       "    <tr>\n",
       "      <th>Tuned HP</th>\n",
       "      <td>0.975612</td>\n",
       "      <td>0.987792</td>\n",
       "      <td>0.993570</td>\n",
       "      <td>1.000000</td>\n",
       "    </tr>\n",
       "  </tbody>\n",
       "</table>\n",
       "</div>"
      ],
      "text/plain": [
       "          Porosity     DTree    Forest  Tuned HP\n",
       "Porosity  1.000000  0.966716  0.972600  0.975612\n",
       "DTree     0.966716  1.000000  0.995916  0.987792\n",
       "Forest    0.972600  0.995916  1.000000  0.993570\n",
       "Tuned HP  0.975612  0.987792  0.993570  1.000000"
      ]
     },
     "execution_count": 28,
     "metadata": {},
     "output_type": "execute_result"
    }
   ],
   "source": [
    "y_test.corr()"
   ]
  },
  {
   "cell_type": "markdown",
   "metadata": {},
   "source": [
    "Looking at the correlation with the actual data, this has the best score. However, this model did take quite a bit longer to instantiate, and only performed marginally better. We can plot it to see how it compares with random forest."
   ]
  },
  {
   "cell_type": "code",
   "execution_count": 29,
   "metadata": {
    "scrolled": true
   },
   "outputs": [
    {
     "data": {
      "image/png": "[encoded data removed]",
      "text/plain": [
       "<Figure size 432x288 with 1 Axes>"
      ]
     },
     "metadata": {
      "needs_background": "light"
     },
     "output_type": "display_data"
    }
   ],
   "source": [
    "plt.subplot(111)\n",
    "plt.scatter(clf_pred,y_test['Porosity'], color = 'red',label='Grid Search CV')\n",
    "plt.scatter(y_test['Forest'],y_test['Porosity'], color = 'blue', label='Random Forest')\n",
    "x = np.linspace(start = np.min(y_test),stop = np.max(y_test), num = 1000)\n",
    "y = x\n",
    "plt.xlabel('Predicted Porosity (%)')\n",
    "plt.ylabel('Porosity (%)')\n",
    "plt.legend()\n",
    "plt.plot(x,y,color='black')\n",
    "plt.show()"
   ]
  },
  {
   "cell_type": "markdown",
   "metadata": {},
   "source": [
    "Overall, it seems to perform very similarly, both by the correlation coefficient and the quantitative visualization."
   ]
  },
  {
   "cell_type": "markdown",
   "metadata": {},
   "source": [
    "I'm going to apply each of these models to the full velocity dataset now. The code below now takes the full dataset, checks to see if the material is sediment, then predicts porosity with each prediction model. If the material is not sediment, I'm assigning a value of 0 porosity -- I'm only keeping these placeholders so I can visualize the porosity in a similar way that I did with the velocity data in the first figure."
   ]
  },
  {
   "cell_type": "code",
   "execution_count": 30,
   "metadata": {
    "scrolled": false
   },
   "outputs": [
    {
     "data": {
      "text/html": [
       "<div>\n",
       "<style scoped>\n",
       "    .dataframe tbody tr th:only-of-type {\n",
       "        vertical-align: middle;\n",
       "    }\n",
       "\n",
       "    .dataframe tbody tr th {\n",
       "        vertical-align: top;\n",
       "    }\n",
       "\n",
       "    .dataframe thead th {\n",
       "        text-align: right;\n",
       "    }\n",
       "</style>\n",
       "<table border=\"1\" class=\"dataframe\">\n",
       "  <thead>\n",
       "    <tr style=\"text-align: right;\">\n",
       "      <th></th>\n",
       "      <th>Line</th>\n",
       "      <th>CDP</th>\n",
       "      <th>Depth</th>\n",
       "      <th>Velocity</th>\n",
       "      <th>Material</th>\n",
       "      <th>Por Tree</th>\n",
       "      <th>Por Forest</th>\n",
       "      <th>Por Gridded Search</th>\n",
       "    </tr>\n",
       "  </thead>\n",
       "  <tbody>\n",
       "    <tr>\n",
       "      <th>0</th>\n",
       "      <td>28</td>\n",
       "      <td>9000</td>\n",
       "      <td>5</td>\n",
       "      <td>1499</td>\n",
       "      <td>Water</td>\n",
       "      <td>0</td>\n",
       "      <td>0</td>\n",
       "      <td>0</td>\n",
       "    </tr>\n",
       "    <tr>\n",
       "      <th>1</th>\n",
       "      <td>28</td>\n",
       "      <td>9000</td>\n",
       "      <td>10</td>\n",
       "      <td>1499</td>\n",
       "      <td>Water</td>\n",
       "      <td>0</td>\n",
       "      <td>0</td>\n",
       "      <td>0</td>\n",
       "    </tr>\n",
       "    <tr>\n",
       "      <th>2</th>\n",
       "      <td>28</td>\n",
       "      <td>9000</td>\n",
       "      <td>15</td>\n",
       "      <td>1499</td>\n",
       "      <td>Water</td>\n",
       "      <td>0</td>\n",
       "      <td>0</td>\n",
       "      <td>0</td>\n",
       "    </tr>\n",
       "    <tr>\n",
       "      <th>3</th>\n",
       "      <td>28</td>\n",
       "      <td>9000</td>\n",
       "      <td>20</td>\n",
       "      <td>1499</td>\n",
       "      <td>Water</td>\n",
       "      <td>0</td>\n",
       "      <td>0</td>\n",
       "      <td>0</td>\n",
       "    </tr>\n",
       "    <tr>\n",
       "      <th>4</th>\n",
       "      <td>28</td>\n",
       "      <td>9000</td>\n",
       "      <td>25</td>\n",
       "      <td>1499</td>\n",
       "      <td>Water</td>\n",
       "      <td>0</td>\n",
       "      <td>0</td>\n",
       "      <td>0</td>\n",
       "    </tr>\n",
       "    <tr>\n",
       "      <th>...</th>\n",
       "      <td>...</td>\n",
       "      <td>...</td>\n",
       "      <td>...</td>\n",
       "      <td>...</td>\n",
       "      <td>...</td>\n",
       "      <td>...</td>\n",
       "      <td>...</td>\n",
       "      <td>...</td>\n",
       "    </tr>\n",
       "    <tr>\n",
       "      <th>855</th>\n",
       "      <td>28</td>\n",
       "      <td>9000</td>\n",
       "      <td>4280</td>\n",
       "      <td>3201</td>\n",
       "      <td>Sediment</td>\n",
       "      <td>[9.057328090039508]</td>\n",
       "      <td>[10.103340849891097]</td>\n",
       "      <td>[11.826459342637607]</td>\n",
       "    </tr>\n",
       "    <tr>\n",
       "      <th>856</th>\n",
       "      <td>28</td>\n",
       "      <td>9000</td>\n",
       "      <td>4285</td>\n",
       "      <td>3348</td>\n",
       "      <td>Sediment</td>\n",
       "      <td>[9.830919581603187]</td>\n",
       "      <td>[10.470623951180377]</td>\n",
       "      <td>[11.290910409284626]</td>\n",
       "    </tr>\n",
       "    <tr>\n",
       "      <th>857</th>\n",
       "      <td>28</td>\n",
       "      <td>9000</td>\n",
       "      <td>4290</td>\n",
       "      <td>3495</td>\n",
       "      <td>Sediment</td>\n",
       "      <td>[3.9942568880078806]</td>\n",
       "      <td>[4.692912375303551]</td>\n",
       "      <td>[5.567189074846664]</td>\n",
       "    </tr>\n",
       "    <tr>\n",
       "      <th>858</th>\n",
       "      <td>28</td>\n",
       "      <td>9000</td>\n",
       "      <td>4295</td>\n",
       "      <td>3642</td>\n",
       "      <td>Sediment</td>\n",
       "      <td>[9.12029453265992]</td>\n",
       "      <td>[7.916502033434389]</td>\n",
       "      <td>[7.015924093577342]</td>\n",
       "    </tr>\n",
       "    <tr>\n",
       "      <th>859</th>\n",
       "      <td>28</td>\n",
       "      <td>9000</td>\n",
       "      <td>4300</td>\n",
       "      <td>3785</td>\n",
       "      <td>Sediment</td>\n",
       "      <td>[7.873290766621923]</td>\n",
       "      <td>[9.9929641967515]</td>\n",
       "      <td>[8.725559343345955]</td>\n",
       "    </tr>\n",
       "  </tbody>\n",
       "</table>\n",
       "<p>860 rows × 8 columns</p>\n",
       "</div>"
      ],
      "text/plain": [
       "     Line   CDP  Depth  Velocity  Material              Por Tree  \\\n",
       "0      28  9000      5      1499     Water                     0   \n",
       "1      28  9000     10      1499     Water                     0   \n",
       "2      28  9000     15      1499     Water                     0   \n",
       "3      28  9000     20      1499     Water                     0   \n",
       "4      28  9000     25      1499     Water                     0   \n",
       "..    ...   ...    ...       ...       ...                   ...   \n",
       "855    28  9000   4280      3201  Sediment   [9.057328090039508]   \n",
       "856    28  9000   4285      3348  Sediment   [9.830919581603187]   \n",
       "857    28  9000   4290      3495  Sediment  [3.9942568880078806]   \n",
       "858    28  9000   4295      3642  Sediment    [9.12029453265992]   \n",
       "859    28  9000   4300      3785  Sediment   [7.873290766621923]   \n",
       "\n",
       "               Por Forest    Por Gridded Search  \n",
       "0                       0                     0  \n",
       "1                       0                     0  \n",
       "2                       0                     0  \n",
       "3                       0                     0  \n",
       "4                       0                     0  \n",
       "..                    ...                   ...  \n",
       "855  [10.103340849891097]  [11.826459342637607]  \n",
       "856  [10.470623951180377]  [11.290910409284626]  \n",
       "857   [4.692912375303551]   [5.567189074846664]  \n",
       "858   [7.916502033434389]   [7.015924093577342]  \n",
       "859     [9.9929641967515]   [8.725559343345955]  \n",
       "\n",
       "[860 rows x 8 columns]"
      ]
     },
     "execution_count": 30,
     "metadata": {},
     "output_type": "execute_result"
    }
   ],
   "source": [
    "#going through and assigning porosity values to the sediment (water and ocean crust are given values of 0)\n",
    "portree = [];\n",
    "porfor = [];\n",
    "porclf = [];\n",
    "for row in df.index:\n",
    "    mat = df.at[row,'Material']\n",
    "    if mat == 'Sediment':\n",
    "        vel = df.at[row,'Velocity'].reshape(1, -1)\n",
    "        por_tree = dtree.predict(vel)\n",
    "        por_for = forest.predict(vel)\n",
    "        por_clf = clf.predict(vel)\n",
    "        portree.append(por_tree)\n",
    "        porfor.append(por_for)\n",
    "        porclf.append(por_clf)\n",
    "    \n",
    "    else:\n",
    "        portree.append(0)\n",
    "        porfor.append(0)\n",
    "        porclf.append(0)\n",
    "\n",
    "\n",
    "df['Por Tree'] = portree       \n",
    "df['Por Forest'] = porfor\n",
    "df['Por Gridded Search'] = porclf\n",
    "df.head(860)"
   ]
  },
  {
   "cell_type": "markdown",
   "metadata": {},
   "source": [
    "## Summary of Results\n",
    "The predictions were added successfully! I'm now going to visualize the porosity-velocity relationship to see how it looks."
   ]
  },
  {
   "cell_type": "code",
   "execution_count": 31,
   "metadata": {},
   "outputs": [
    {
     "data": {
      "image/png": "[encoded data removed]",
      "text/plain": [
       "<Figure size 432x288 with 1 Axes>"
      ]
     },
     "metadata": {
      "needs_background": "light"
     },
     "output_type": "display_data"
    }
   ],
   "source": [
    "plt.scatter(df['Velocity'],df['Por Tree'],label='Decision Tree',marker = '.')\n",
    "plt.scatter(df['Velocity'],df['Por Forest'],label='Random Forest',marker = '.')\n",
    "plt.scatter(df['Velocity'],df['Por Gridded Search'],label='Grid Search Random Forest',marker = '.')\n",
    "plt.legend()\n",
    "plt.show()"
   ]
  },
  {
   "cell_type": "markdown",
   "metadata": {},
   "source": [
    "Overall, they each capture the trend very similarly. The main differences are in the variance - decision tree and random forest seem to have similar variance, while the grid search random forest has much less. The zero values are from the areas that are not sediments -- water and crust. Lets see how this looks as a cross section in 2D space:"
   ]
  },
  {
   "cell_type": "code",
   "execution_count": 32,
   "metadata": {},
   "outputs": [
    {
     "data": {
      "image/png": "[encoded data removed]",
      "text/plain": [
       "<Figure size 432x288 with 4 Axes>"
      ]
     },
     "metadata": {
      "needs_background": "light"
     },
     "output_type": "display_data"
    }
   ],
   "source": [
    "plt.subplot(131)\n",
    "image = plt.scatter(df['CDP'],df['Depth'], c=df['Por Tree'], vmin=0, vmax=80,cmap='Spectral')\n",
    "plt.gca().invert_yaxis()\n",
    "plt.ylabel('Depth below sealevel (m)')\n",
    "plt.xlabel('CDP (6.25 m)')\n",
    "plt.title('Decision Tree')\n",
    "\n",
    "plt.subplot(132)\n",
    "image2 = plt.scatter(df['CDP'],df['Depth'], c=df['Por Forest'], vmin=0, vmax=80,cmap='Spectral')\n",
    "plt.gca().invert_yaxis() \n",
    "plt.xlabel('CDP (6.25 m)')\n",
    "plt.title('Random Forest')\n",
    "\n",
    "plt.subplot(133)\n",
    "image3 = plt.scatter(df['CDP'],df['Depth'], c=df['Por Gridded Search'], vmin=0, vmax=80,cmap='Spectral')\n",
    "plt.xlabel('CDP (6.25 m)')\n",
    "plt.gca().invert_yaxis()\n",
    "plt.title('Gridded Search Random Forest')\n",
    "\n",
    "cbar = plt.colorbar(image, orientation = 'vertical')\n",
    "cbar.set_label(\"Predicted Porosity\", rotation=270, labelpad=20)\n",
    "plt.xlabel('CDP (6.25 m)')\n",
    "\n",
    "plt.subplots_adjust(left=0.0, bottom=0.0, right=2.1, top=1.0, wspace=0.2, hspace=0.2)"
   ]
  },
  {
   "cell_type": "markdown",
   "metadata": {},
   "source": [
    "Again, overall, the models performed very similarly. Random forest appears smoother than just one decision tree. Gridded search random forest clearly has less regions to catagorize -- based on this, it may be that the other two models are actually overfit. It might be best to stop with a more pruned tree to more accurately predict porosity. However, we know from coring everywhere that the porosity values are likely not that discrete -- this leads me to be more inclined to use the random forest model."
   ]
  }
 ],
 "metadata": {
  "kernelspec": {
   "display_name": "Python 3",
   "language": "python",
   "name": "python3"
  },
  "language_info": {
   "codemirror_mode": {
    "name": "ipython",
    "version": 3
   },
   "file_extension": ".py",
   "mimetype": "text/x-python",
   "name": "python",
   "nbconvert_exporter": "python",
   "pygments_lexer": "ipython3",
   "version": "3.7.3"
  }
 },
 "nbformat": 4,
 "nbformat_minor": 2
}
